{
 "cells": [
  {
   "cell_type": "code",
   "execution_count": 49,
   "id": "92f61fed-b2cd-40f9-a8a8-6638f6b23905",
   "metadata": {},
   "outputs": [],
   "source": [
    "import pandas as pd\n",
    "import numpy as np\n",
    "from sklearn.model_selection import train_test_split"
   ]
  },
  {
   "cell_type": "code",
   "execution_count": 50,
   "id": "778c58a5-f4c8-4971-b3d1-5bf1c07f3f9f",
   "metadata": {},
   "outputs": [],
   "source": [
    "data = np.load('board_grade.npy', allow_pickle=True)"
   ]
  },
  {
   "cell_type": "code",
   "execution_count": 51,
   "id": "72f6629e-ae07-4941-858b-4c8a338999fa",
   "metadata": {},
   "outputs": [],
   "source": [
    "x, y = data[:, 1], data[:, 0]"
   ]
  },
  {
   "cell_type": "code",
   "execution_count": 52,
   "id": "de2e73b2-7e71-484b-aaf8-3c457ecf62ec",
   "metadata": {},
   "outputs": [],
   "source": [
    "for i in range(y.shape[0]):\n",
    "    try:\n",
    "        assert y[i].shape == y[i+1].shape\n",
    "    except:\n",
    "        if i + 1 < y.shape[0]:\n",
    "            print(y[i+1])"
   ]
  },
  {
   "cell_type": "code",
   "execution_count": 53,
   "id": "144a4d2f-a1ce-4ee1-b2aa-3b0740d7bf59",
   "metadata": {},
   "outputs": [],
   "source": [
    "all_boards = np.stack(x).reshape(-1, 18, 11, 2)\n",
    "all_classes = np.stack(y).reshape(-1, 7)"
   ]
  },
  {
   "cell_type": "code",
   "execution_count": 54,
   "id": "e43e808c-52d7-4024-b014-4ad68eac4105",
   "metadata": {},
   "outputs": [],
   "source": [
    "train_boards, train_classes, valid_boards, valid_classes = train_test_split(all_boards, all_classes, test_size=0.2)"
   ]
  },
  {
   "cell_type": "code",
   "execution_count": 55,
   "id": "e324a6b2-79d7-4663-a45d-66b13e4c5e17",
   "metadata": {},
   "outputs": [
    {
     "data": {
      "text/plain": [
       "(24412, 18, 11, 2)"
      ]
     },
     "execution_count": 55,
     "metadata": {},
     "output_type": "execute_result"
    }
   ],
   "source": [
    "train_boards.shape"
   ]
  },
  {
   "cell_type": "code",
   "execution_count": 56,
   "id": "ef68c347-ef32-44fa-a044-e567e735c17e",
   "metadata": {},
   "outputs": [
    {
     "name": "stdout",
     "output_type": "stream",
     "text": [
      "   | A B C D E F G H I J K \n",
      "--------------------------\n",
      "18 | - - - - E - - - - - - \n",
      "17 | - - - - - - - - - - - \n",
      "16 | - - - - - - - - - - - \n",
      "15 | - - - - M - - - - - - \n",
      "14 | - - - - - - - - - - - \n",
      "13 | - - - - - - M - - - - \n",
      "12 | - - - - - - - - - - - \n",
      "11 | - - - - - - - - M - M \n",
      "10 | - - - - - - - - - - - \n",
      " 9 | - - - - - - - - - - - \n",
      " 8 | - - - - - - - - - M - \n",
      " 7 | - - - - - - - - - - - \n",
      " 6 | - - - - - - - - - - - \n",
      " 5 | - - - - - S - - - - - \n",
      " 4 | - - - - - - - - - - - \n",
      " 3 | - - - - - - - - - - - \n",
      " 2 | - - - - - - - - - - - \n",
      " 1 | - - - - - - - - - - - \n",
      "--------------------------\n",
      "Problem Grade: V4 (6B+)\n",
      "\n",
      "\n",
      "   | A B C D E F G H I J K \n",
      "--------------------------\n",
      "18 | - - E - - - - - - - - \n",
      "17 | - - - - - - - - - - - \n",
      "16 | - - - M - - - - - - - \n",
      "15 | - - - - - - - - - - - \n",
      "14 | - - - - - - - - - - - \n",
      "13 | - - - M - - - - - - - \n",
      "12 | - - - - - - - - M - - \n",
      "11 | - - - - - - - - - - - \n",
      "10 | - - - - - - - - - - - \n",
      " 9 | - - - - - M - - - - - \n",
      " 8 | - - - - - - - - - - - \n",
      " 7 | - - - - - - - - - - - \n",
      " 6 | - - - M - - - - - - - \n",
      " 5 | - - - - - - - - - - - \n",
      " 4 | - - - - - - - - - - - \n",
      " 3 | - - - S - - - - - - - \n",
      " 2 | - - - - - - - - - - - \n",
      " 1 | - - - - - - - - - - - \n",
      "--------------------------\n",
      "Problem Grade: V8 (7B/+)\n",
      "\n",
      "\n",
      "   | A B C D E F G H I J K \n",
      "--------------------------\n",
      "18 | - - - - - - - - E - - \n",
      "17 | - - - - - - - - - - - \n",
      "16 | - - - - M - - - - - - \n",
      "15 | - - - - - - - - - - - \n",
      "14 | - - - - M - - - - - - \n",
      "13 | - - - - - - - - - - - \n",
      "12 | - - - - - - - - - - - \n",
      "11 | - - - - - - - - - - - \n",
      "10 | - M - - - - - - - - - \n",
      " 9 | - - - - - - - - - - - \n",
      " 8 | - - - - M - - - - - - \n",
      " 7 | - - - - - - - - - - - \n",
      " 6 | - S - - - - - - - - - \n",
      " 5 | - - S - - - - - - - - \n",
      " 4 | - - - - - - - - - - - \n",
      " 3 | - - - - - - - - - - - \n",
      " 2 | - - - - - - - - - - - \n",
      " 1 | - - - - - - - - - - - \n",
      "--------------------------\n",
      "Problem Grade: V6 (7A)\n"
     ]
    }
   ],
   "source": [
    "grade_to_list = {\n",
    "    \"V4 (6B+)\": tuple([0,0,0,0,0,0,0]),\n",
    "    \"V5 (6C/+)\": tuple([1,0,0,0,0,0,0]),\n",
    "    \"V6 (7A)\": tuple([1,1,0,0,0,0,0]),\n",
    "    \"V7 (7A+)\": tuple([1,1,1,0,0,0,0]),\n",
    "    \"V8 (7B/+)\": tuple([1,1,1,1,0,0,0]),\n",
    "    \"V9 (7C)\": tuple([1,1,1,1,1,0,0]),\n",
    "    \"V10 (7C+)\": tuple([1,1,1,1,1,1,0]),\n",
    "    \"V11 (8A) or harder\": tuple([1,1,1,1,1,1,1]),\n",
    "}\n",
    "\n",
    "grade_num_to_list = {\n",
    "    0: tuple([0,0,0,0,0,0,0]),\n",
    "    1: tuple([1,0,0,0,0,0,0]),\n",
    "    2: tuple([1,1,0,0,0,0,0]),\n",
    "    3: tuple([1,1,1,0,0,0,0]),\n",
    "    4: tuple([1,1,1,1,0,0,0]),\n",
    "    5: tuple([1,1,1,1,1,0,0]),\n",
    "    6: tuple([1,1,1,1,1,1,0]),\n",
    "    7: tuple([1,1,1,1,1,1,1]),\n",
    "}\n",
    "\n",
    "print_dict = {\n",
    "    0: \"M\",\n",
    "    1: \"S\",\n",
    "    2: \"E\"\n",
    "}\n",
    "\n",
    "list_to_grade = dict((v,k) for k,v in grade_to_list.items())\n",
    "list_to_grade_num = dict((v,k) for k,v in grade_num_to_list.items())\n",
    "\n",
    "def print_board_bar():\n",
    "    for i in range(26):\n",
    "        print(\"-\", end=\"\")\n",
    "    print()\n",
    "\n",
    "def print_board(board, grade_list):\n",
    "    print(\" \"*3, end=\"| \")\n",
    "    for i in range(11):\n",
    "        print(f\"{chr(i + 65)}\", end=\" \")\n",
    "    print()\n",
    "    print_board_bar()\n",
    "    for i in range(18):\n",
    "        print(f\"{18 - i:2} |\", end=\" \")\n",
    "        for j in range(11):\n",
    "            num_printed = False\n",
    "            for c in range(2):\n",
    "                if board[17 - i, j, c] > 0:\n",
    "                    char = \"M\"\n",
    "                    if c > 0:\n",
    "                        char = \"S\" if i >= 12 else \"E\"\n",
    "                    print(char, end=\" \")  \n",
    "                    num_printed = True\n",
    "            if not num_printed:\n",
    "                print(\"-\", end=\" \")\n",
    "        print()\n",
    "    print_board_bar()\n",
    "        \n",
    "    print(f\"Problem Grade: {list_to_grade[tuple([round(x) for x in grade_list])]}\")\n",
    "\n",
    "def print_problem(problem_num):\n",
    "    if problem_num < 0 or problem_num > all_boards.shape[0]:\n",
    "        print(\"problem number out of bounds!\")\n",
    "        return -1\n",
    "    print_board(all_boards[problem_num], all_classes[problem_num])\n",
    "\n",
    "print_problem(1)\n",
    "print()\n",
    "print()\n",
    "print_problem(5)\n",
    "print()\n",
    "print()\n",
    "print_problem(10)"
   ]
  },
  {
   "cell_type": "code",
   "execution_count": 57,
   "id": "c4acd7cb-d4c3-48a0-8e3d-85d48242ead3",
   "metadata": {},
   "outputs": [],
   "source": [
    "import torch\n",
    "import torch.nn as nn\n",
    "import torch.nn.functional as F\n",
    "import torch.optim as optim\n",
    "import torch.utils.data as data"
   ]
  },
  {
   "cell_type": "code",
   "execution_count": 58,
   "id": "5e2bda3b-b440-4708-8e3f-ccc954c27ce2",
   "metadata": {},
   "outputs": [],
   "source": [
    "# Convert data to PyTorch tensors\n",
    "x_tensor = torch.tensor(all_boards, dtype=torch.float32)\n",
    "y_tensor = torch.tensor(all_classes, dtype=torch.float32)\n",
    "# create the dataset\n",
    "dataset = data.TensorDataset(x_tensor, y_tensor)\n",
    "val_size = int(len(dataset)*0.2)\n",
    "train_size = len(dataset)- int(len(dataset)*0.2)\n",
    "train_dataset, val_dataset = data.random_split(dataset, [train_size, val_size])"
   ]
  },
  {
   "cell_type": "code",
   "execution_count": 103,
   "id": "e6d4a136-2393-4a76-9b26-253c23603d39",
   "metadata": {},
   "outputs": [
    {
     "name": "stdout",
     "output_type": "stream",
     "text": [
      "Class weights: [0.00970098421644243, 0.010121338305712787, 0.021349923846812034, 0.03320572340634781, 0.029934354580572257, 0.12865074593406012, 0.2129518045233303, 0.5540851251867223]\n"
     ]
    }
   ],
   "source": [
    "# create an oversampler\n",
    "# Define a function to calculate class weights\n",
    "def calculate_class_weights(dataset, num_classes):\n",
    "    class_counts = [0] * num_classes\n",
    "\n",
    "    # Count occurrences of each class in the dataset\n",
    "    for sample in dataset:\n",
    "        label = max([i+1 if x > 0 else 0 for i, x in enumerate(sample[1])])\n",
    "        class_counts[label] +=  0.95 ** (label - 6) if label - 6 > 0 else 1\n",
    "\n",
    "    # Calculate normalized class weights\n",
    "    class_weights = [1 / (count) for count in class_counts]\n",
    "    weights_total = sum(class_weights)\n",
    "    class_weights_normalized = [weight / weights_total for weight in class_weights]\n",
    "\n",
    "    return class_weights_normalized\n",
    "\n",
    "# Calculate sample weights from class weights\n",
    "class_weights = calculate_class_weights(train_dataset, 8)\n",
    "labels = [max([i+1 if x > 0 else 0 for i, x in enumerate(sample[1])]) for sample in train_dataset]\n",
    "sample_weights = [class_weights[label] for label in labels]\n",
    "\n",
    "# Create upsampler using sample weights\n",
    "train_sampler = data.WeightedRandomSampler(weights=sample_weights, num_samples=len(train_dataset), replacement=True)\n",
    "\n",
    "print(\"Class weights:\", class_weights)"
   ]
  },
  {
   "cell_type": "code",
   "execution_count": 104,
   "id": "62095b30-6763-46ad-a7ff-2efd00d35848",
   "metadata": {},
   "outputs": [],
   "source": [
    "INPUT_DIM = 18 * 11 * 2\n",
    "OUTPUT_DIM = 7\n",
    "\n",
    "def epoch_time(start_time, end_time):\n",
    "    elapsed_time = end_time - start_time\n",
    "    elapsed_mins = int(elapsed_time / 60)\n",
    "    elapsed_secs = int(elapsed_time - (elapsed_mins * 60))\n",
    "    return elapsed_mins, elapsed_secs\n",
    "\n",
    "def calculate_accuracy(y_pred, y):\n",
    "    thresh_pred = (y_pred > 0).float()\n",
    "    thresh_y = (y > 0).float()\n",
    "    correct = torch.tensor(0).to(\"cuda\")\n",
    "    for i in range(y.shape[0]):\n",
    "        correct += thresh_y[i].equal(thresh_pred[i])\n",
    "    acc = correct.float() / y.shape[0]\n",
    "    return acc\n",
    "\n",
    "def calculate_plus_minus_one(y_pred, y):\n",
    "    y_pred = (y_pred > 0).float().to(\"cuda\")\n",
    "    y = (y > 0).float().to(\"cuda\")\n",
    "    correct = torch.tensor(0).to(\"cuda\")\n",
    "    for i in range(y.shape[0]):\n",
    "        correct += (y_pred[i].eq(y[i]).sum() >= OUTPUT_DIM - 1)\n",
    "    acc = correct.float() / y.shape[0]\n",
    "    return acc"
   ]
  },
  {
   "cell_type": "code",
   "execution_count": 142,
   "id": "35709637-b69e-417b-b3b0-140a3d9f1329",
   "metadata": {},
   "outputs": [],
   "source": [
    "class MLP(nn.Module):\n",
    "    def __init__(self, input_dim, output_dim):\n",
    "        super().__init__()\n",
    "\n",
    "        self.input_fc = nn.Linear(input_dim, 128)\n",
    "        self.dropout = nn.Dropout(0.5)\n",
    "        self.hidden_fc = nn.Linear(128, 32)\n",
    "        self.output_fc = nn.Linear(32, output_dim)\n",
    "\n",
    "    def forward(self, x):\n",
    "        batch_size = x.shape[0]\n",
    "        x = x.view(batch_size, -1)\n",
    "        h_1 = self.dropout(F.mish(self.input_fc(x)))\n",
    "        h_2 = self.dropout(F.mish(self.hidden_fc(h_1)))\n",
    "        y_pred = self.output_fc(h_2)\n",
    "        return y_pred, h_2\n",
    "\n",
    "device = torch.device('cuda' if torch.cuda.is_available() else 'cpu')\n",
    "model = MLP(INPUT_DIM, OUTPUT_DIM)"
   ]
  },
  {
   "cell_type": "code",
   "execution_count": 143,
   "id": "ab2373b0-d00a-4006-aa1c-05d330ffa113",
   "metadata": {},
   "outputs": [
    {
     "name": "stderr",
     "output_type": "stream",
     "text": [
      "                                                                                                                       \r"
     ]
    },
    {
     "name": "stdout",
     "output_type": "stream",
     "text": [
      "Epoch: 01 | Epoch Time: 0m 9s\n",
      "\tTrain Loss: 0.0426 | Train Acc: 32.26% | Train Acc +/- 1 Grade: 72.74%\n",
      "\t Val. Loss: 0.0337 |  Val. Acc: 42.65% |  Val. Acc +/- 1 Grade: 80.35%\n"
     ]
    },
    {
     "name": "stderr",
     "output_type": "stream",
     "text": [
      "                                                                                                                       \r"
     ]
    },
    {
     "name": "stdout",
     "output_type": "stream",
     "text": [
      "Epoch: 02 | Epoch Time: 0m 8s\n",
      "\tTrain Loss: 0.0368 | Train Acc: 37.31% | Train Acc +/- 1 Grade: 78.72%\n",
      "\t Val. Loss: 0.0287 |  Val. Acc: 47.29% |  Val. Acc +/- 1 Grade: 85.40%\n"
     ]
    },
    {
     "name": "stderr",
     "output_type": "stream",
     "text": [
      "                                                                                                                       \r"
     ]
    },
    {
     "name": "stdout",
     "output_type": "stream",
     "text": [
      "Epoch: 03 | Epoch Time: 0m 8s\n",
      "\tTrain Loss: 0.0354 | Train Acc: 37.85% | Train Acc +/- 1 Grade: 80.24%\n",
      "\t Val. Loss: 0.0293 |  Val. Acc: 46.80% |  Val. Acc +/- 1 Grade: 84.35%\n"
     ]
    },
    {
     "name": "stderr",
     "output_type": "stream",
     "text": [
      "                                                                                                                       \r"
     ]
    },
    {
     "name": "stdout",
     "output_type": "stream",
     "text": [
      "Epoch: 04 | Epoch Time: 0m 8s\n",
      "\tTrain Loss: 0.0335 | Train Acc: 40.02% | Train Acc +/- 1 Grade: 81.97%\n",
      "\t Val. Loss: 0.0270 |  Val. Acc: 48.63% |  Val. Acc +/- 1 Grade: 86.84%\n"
     ]
    },
    {
     "name": "stderr",
     "output_type": "stream",
     "text": [
      "                                                                                                                       \r"
     ]
    },
    {
     "name": "stdout",
     "output_type": "stream",
     "text": [
      "Epoch: 05 | Epoch Time: 0m 8s\n",
      "\tTrain Loss: 0.0320 | Train Acc: 41.87% | Train Acc +/- 1 Grade: 83.33%\n",
      "\t Val. Loss: 0.0280 |  Val. Acc: 46.29% |  Val. Acc +/- 1 Grade: 86.45%\n"
     ]
    },
    {
     "name": "stderr",
     "output_type": "stream",
     "text": [
      "                                                                                                                       \r"
     ]
    },
    {
     "name": "stdout",
     "output_type": "stream",
     "text": [
      "Epoch: 06 | Epoch Time: 0m 8s\n",
      "\tTrain Loss: 0.0311 | Train Acc: 43.50% | Train Acc +/- 1 Grade: 84.36%\n",
      "\t Val. Loss: 0.0271 |  Val. Acc: 47.19% |  Val. Acc +/- 1 Grade: 87.06%\n"
     ]
    },
    {
     "name": "stderr",
     "output_type": "stream",
     "text": [
      "                                                                                                                       \r"
     ]
    },
    {
     "name": "stdout",
     "output_type": "stream",
     "text": [
      "Epoch: 07 | Epoch Time: 0m 8s\n",
      "\tTrain Loss: 0.0300 | Train Acc: 44.40% | Train Acc +/- 1 Grade: 85.57%\n",
      "\t Val. Loss: 0.0260 |  Val. Acc: 48.24% |  Val. Acc +/- 1 Grade: 88.05%\n"
     ]
    },
    {
     "name": "stderr",
     "output_type": "stream",
     "text": [
      "                                                                                                                       \r"
     ]
    },
    {
     "name": "stdout",
     "output_type": "stream",
     "text": [
      "Epoch: 08 | Epoch Time: 0m 8s\n",
      "\tTrain Loss: 0.0291 | Train Acc: 45.13% | Train Acc +/- 1 Grade: 86.22%\n",
      "\t Val. Loss: 0.0256 |  Val. Acc: 49.62% |  Val. Acc +/- 1 Grade: 88.23%\n"
     ]
    },
    {
     "name": "stderr",
     "output_type": "stream",
     "text": [
      "                                                                                                                       \r"
     ]
    },
    {
     "name": "stdout",
     "output_type": "stream",
     "text": [
      "Epoch: 09 | Epoch Time: 0m 8s\n",
      "\tTrain Loss: 0.0282 | Train Acc: 46.55% | Train Acc +/- 1 Grade: 86.70%\n",
      "\t Val. Loss: 0.0259 |  Val. Acc: 48.21% |  Val. Acc +/- 1 Grade: 88.64%\n"
     ]
    },
    {
     "name": "stderr",
     "output_type": "stream",
     "text": [
      "                                                                                                                       \r"
     ]
    },
    {
     "name": "stdout",
     "output_type": "stream",
     "text": [
      "Epoch: 10 | Epoch Time: 0m 8s\n",
      "\tTrain Loss: 0.0277 | Train Acc: 47.46% | Train Acc +/- 1 Grade: 87.49%\n",
      "\t Val. Loss: 0.0260 |  Val. Acc: 48.03% |  Val. Acc +/- 1 Grade: 88.05%\n"
     ]
    },
    {
     "name": "stderr",
     "output_type": "stream",
     "text": [
      "                                                                                                                       \r"
     ]
    },
    {
     "name": "stdout",
     "output_type": "stream",
     "text": [
      "Epoch: 11 | Epoch Time: 0m 8s\n",
      "\tTrain Loss: 0.0272 | Train Acc: 47.91% | Train Acc +/- 1 Grade: 87.98%\n",
      "\t Val. Loss: 0.0254 |  Val. Acc: 50.03% |  Val. Acc +/- 1 Grade: 88.91%\n"
     ]
    },
    {
     "name": "stderr",
     "output_type": "stream",
     "text": [
      "                                                                                                                       \r"
     ]
    },
    {
     "name": "stdout",
     "output_type": "stream",
     "text": [
      "Epoch: 12 | Epoch Time: 0m 8s\n",
      "\tTrain Loss: 0.0270 | Train Acc: 48.56% | Train Acc +/- 1 Grade: 87.91%\n",
      "\t Val. Loss: 0.0254 |  Val. Acc: 49.98% |  Val. Acc +/- 1 Grade: 88.27%\n"
     ]
    },
    {
     "name": "stderr",
     "output_type": "stream",
     "text": [
      "                                                                                                                       \r"
     ]
    },
    {
     "name": "stdout",
     "output_type": "stream",
     "text": [
      "Epoch: 13 | Epoch Time: 0m 7s\n",
      "\tTrain Loss: 0.0263 | Train Acc: 48.67% | Train Acc +/- 1 Grade: 88.61%\n",
      "\t Val. Loss: 0.0248 |  Val. Acc: 50.68% |  Val. Acc +/- 1 Grade: 89.20%\n"
     ]
    },
    {
     "name": "stderr",
     "output_type": "stream",
     "text": [
      "                                                                                                                       \r"
     ]
    },
    {
     "name": "stdout",
     "output_type": "stream",
     "text": [
      "Epoch: 14 | Epoch Time: 0m 7s\n",
      "\tTrain Loss: 0.0257 | Train Acc: 49.89% | Train Acc +/- 1 Grade: 88.97%\n",
      "\t Val. Loss: 0.0242 |  Val. Acc: 52.04% |  Val. Acc +/- 1 Grade: 89.99%\n"
     ]
    },
    {
     "name": "stderr",
     "output_type": "stream",
     "text": [
      "                                                                                                                       \r"
     ]
    },
    {
     "name": "stdout",
     "output_type": "stream",
     "text": [
      "Epoch: 15 | Epoch Time: 0m 7s\n",
      "\tTrain Loss: 0.0257 | Train Acc: 49.59% | Train Acc +/- 1 Grade: 89.20%\n",
      "\t Val. Loss: 0.0254 |  Val. Acc: 49.60% |  Val. Acc +/- 1 Grade: 88.48%\n"
     ]
    },
    {
     "name": "stderr",
     "output_type": "stream",
     "text": [
      "                                                                                                                       \r"
     ]
    },
    {
     "name": "stdout",
     "output_type": "stream",
     "text": [
      "Epoch: 16 | Epoch Time: 0m 7s\n",
      "\tTrain Loss: 0.0254 | Train Acc: 50.08% | Train Acc +/- 1 Grade: 89.39%\n",
      "\t Val. Loss: 0.0237 |  Val. Acc: 51.89% |  Val. Acc +/- 1 Grade: 90.05%\n"
     ]
    },
    {
     "name": "stderr",
     "output_type": "stream",
     "text": [
      "                                                                                                                       \r"
     ]
    },
    {
     "name": "stdout",
     "output_type": "stream",
     "text": [
      "Epoch: 17 | Epoch Time: 0m 7s\n",
      "\tTrain Loss: 0.0252 | Train Acc: 50.82% | Train Acc +/- 1 Grade: 89.59%\n",
      "\t Val. Loss: 0.0242 |  Val. Acc: 51.55% |  Val. Acc +/- 1 Grade: 90.33%\n"
     ]
    },
    {
     "name": "stderr",
     "output_type": "stream",
     "text": [
      "                                                                                                                       \r"
     ]
    },
    {
     "name": "stdout",
     "output_type": "stream",
     "text": [
      "Epoch: 18 | Epoch Time: 0m 7s\n",
      "\tTrain Loss: 0.0250 | Train Acc: 50.70% | Train Acc +/- 1 Grade: 89.72%\n",
      "\t Val. Loss: 0.0246 |  Val. Acc: 49.21% |  Val. Acc +/- 1 Grade: 89.97%\n"
     ]
    },
    {
     "name": "stderr",
     "output_type": "stream",
     "text": [
      "                                                                                                                       \r"
     ]
    },
    {
     "name": "stdout",
     "output_type": "stream",
     "text": [
      "Epoch: 19 | Epoch Time: 0m 7s\n",
      "\tTrain Loss: 0.0247 | Train Acc: 50.70% | Train Acc +/- 1 Grade: 90.20%\n",
      "\t Val. Loss: 0.0243 |  Val. Acc: 51.35% |  Val. Acc +/- 1 Grade: 89.99%\n"
     ]
    },
    {
     "name": "stderr",
     "output_type": "stream",
     "text": [
      "                                                                                                                       "
     ]
    },
    {
     "name": "stdout",
     "output_type": "stream",
     "text": [
      "Epoch: 20 | Epoch Time: 0m 7s\n",
      "\tTrain Loss: 0.0247 | Train Acc: 51.63% | Train Acc +/- 1 Grade: 90.12%\n",
      "\t Val. Loss: 0.0243 |  Val. Acc: 51.26% |  Val. Acc +/- 1 Grade: 89.87%\n"
     ]
    },
    {
     "name": "stderr",
     "output_type": "stream",
     "text": [
      "\r"
     ]
    }
   ],
   "source": [
    "import time\n",
    "from tqdm import tqdm\n",
    "\n",
    "# fix the random seed; don't modify this\n",
    "torch.manual_seed(23459078)\n",
    "\n",
    "device = torch.device('cuda' if torch.cuda.is_available() else 'cpu')\n",
    "model = MLP(INPUT_DIM, OUTPUT_DIM)\n",
    "BATCH_SIZE = 8\n",
    "\n",
    "train_iterator = data.DataLoader(train_dataset,\n",
    "                                 #shuffle=True,\n",
    "                                 sampler=train_sampler,\n",
    "                                 batch_size=BATCH_SIZE)\n",
    "\n",
    "valid_iterator = data.DataLoader(val_dataset,\n",
    "                                 batch_size=BATCH_SIZE)\n",
    "\n",
    "# Loss and optimizer\n",
    "criterion = nn.BCEWithLogitsLoss()\n",
    "optimizer = optim.Adam(model.parameters(), lr=1e-3, weight_decay=1e-5)\n",
    "\n",
    "model = model.to(device)\n",
    "criterion = criterion.to(device)\n",
    "\n",
    "def train(model, iterator, optimizer, criterion, device):\n",
    "\n",
    "    epoch_loss = 0\n",
    "    epoch_acc = 0\n",
    "    epoch_plus_minus = 0\n",
    "\n",
    "    model.train()\n",
    "\n",
    "    for (x, y) in tqdm(iterator, desc=\"Training\", leave=False):\n",
    "\n",
    "        x = x.to(device)\n",
    "        y = y.to(device)\n",
    "\n",
    "        optimizer.zero_grad()\n",
    "\n",
    "        y_pred, _ = model(x)\n",
    "\n",
    "        loss = criterion(y_pred, y)\n",
    "\n",
    "        acc = calculate_accuracy(y_pred, y)\n",
    "\n",
    "        plus_minus = calculate_plus_minus_one(y_pred, y)\n",
    "\n",
    "        loss.backward()\n",
    "\n",
    "        optimizer.step()\n",
    "\n",
    "        epoch_loss += loss.item()\n",
    "        epoch_acc += acc.item()\n",
    "        epoch_plus_minus += plus_minus.item()\n",
    "\n",
    "    return epoch_loss / (len(iterator) * BATCH_SIZE), epoch_acc / len(iterator), epoch_plus_minus / len(iterator)\n",
    "\n",
    "def evaluate(model, iterator, criterion, device):\n",
    "\n",
    "    epoch_loss = 0\n",
    "    epoch_acc = 0\n",
    "    epoch_plus_minus = 0\n",
    "\n",
    "    model.eval()\n",
    "\n",
    "    with torch.no_grad():\n",
    "\n",
    "        for (x, y) in tqdm(iterator, desc=\"Evaluating\", leave=False):\n",
    "\n",
    "            x = x.to(device)\n",
    "            y = y.to(device)\n",
    "\n",
    "            y_pred, _ = model(x)\n",
    "\n",
    "            loss = criterion(y_pred, y)\n",
    "\n",
    "            acc = calculate_accuracy(y_pred, y)\n",
    "\n",
    "            plus_minus = calculate_plus_minus_one(y_pred, y)\n",
    "\n",
    "            epoch_loss += loss.item()\n",
    "            epoch_acc += acc.item()\n",
    "            epoch_plus_minus += plus_minus.item()\n",
    "\n",
    "    return epoch_loss / (len(iterator) * BATCH_SIZE), epoch_acc / len(iterator), epoch_plus_minus / len(iterator)\n",
    "\n",
    "\n",
    "EPOCHS = 20\n",
    "\n",
    "best_valid_loss = float('inf')\n",
    "\n",
    "for epoch in range(EPOCHS):\n",
    "\n",
    "    start_time = time.monotonic()\n",
    "\n",
    "    train_loss, train_acc, train_plus_minus = train(model, train_iterator, optimizer, criterion, device)\n",
    "    valid_loss, valid_acc, valid_plus_minus = evaluate(model, valid_iterator, criterion, device)\n",
    "\n",
    "    if (0.2*train_loss + 0.8*valid_loss) < best_valid_loss: # save best model weights\n",
    "        best_valid_loss = valid_loss\n",
    "        torch.save(model.state_dict(), 'tut1-model.pt')\n",
    "\n",
    "    end_time = time.monotonic()\n",
    "\n",
    "    epoch_mins, epoch_secs = epoch_time(start_time, end_time)\n",
    "\n",
    "    print(f'Epoch: {epoch+1:02} | Epoch Time: {epoch_mins}m {epoch_secs}s')\n",
    "    print(f'\\tTrain Loss: {train_loss:.4f} | Train Acc: {train_acc*100:.2f}% | Train Acc +/- 1 Grade: {train_plus_minus*100:.2f}%')\n",
    "    print(f'\\t Val. Loss: {valid_loss:.4f} |  Val. Acc: {valid_acc*100:.2f}% |  Val. Acc +/- 1 Grade: {valid_plus_minus*100:.2f}%')"
   ]
  },
  {
   "cell_type": "code",
   "execution_count": 147,
   "id": "e5d279fd-82fd-445c-b0d0-51614c6b0403",
   "metadata": {},
   "outputs": [
    {
     "name": "stdout",
     "output_type": "stream",
     "text": [
      "torch.Size([1, 18, 11, 2])\n",
      "   | A B C D E F G H I J K \n",
      "--------------------------\n",
      "18 | - - - E - - - - - - - \n",
      "17 | - - - - - - - - - - - \n",
      "16 | - - - - - - - - - - - \n",
      "15 | - - - - M - - - - - - \n",
      "14 | - - - - - - - - - - - \n",
      "13 | - - - M - - - - - - - \n",
      "12 | - - - - - - - - - - - \n",
      "11 | - - - - - - - - - - - \n",
      "10 | - M - - - - - - - - - \n",
      " 9 | - - - - - - - - - - - \n",
      " 8 | - - - M - - - - - - - \n",
      " 7 | - - - - - - - - - - - \n",
      " 6 | - - - S - - - - - - - \n",
      " 5 | - - - - - - - - - - - \n",
      " 4 | - S - - - - - - - - - \n",
      " 3 | - - - - - - - - - - - \n",
      " 2 | - - - - - - - - - - - \n",
      " 1 | - - - - - - - - - - - \n",
      "--------------------------\n",
      "Problem Grade: V6 (7A)\n",
      "NN Estimation: V6 (7A)\n",
      "Full correct class: [1. 1. 0. 0. 0. 0. 0.]\n",
      "Model estim. class: [0.9 0.5 0.3 0.1 0.  0.  0. ]\n"
     ]
    }
   ],
   "source": [
    "import math\n",
    "# grab a boulder from the validation set and see what the net thinks\n",
    "view_iterator = data.DataLoader(val_dataset,\n",
    "                                 shuffle=True,\n",
    "                                 batch_size=1)\n",
    "\n",
    "# get the best performing model weights\n",
    "model.load_state_dict(torch.load('tut1-model.pt'))\n",
    "\n",
    "# set it up properly for viewing + prediction\n",
    "board, grade = next(iter(view_iterator))\n",
    "print(board.shape)\n",
    "view_board = board.reshape(18, 11, 2)\n",
    "view_grade = grade.reshape(7)\n",
    "board = board.to(device)\n",
    "grade = grade.to(device)\n",
    "print_board(view_board, view_grade.numpy())\n",
    "pred = model.eval()(board)[0].cpu()\n",
    "pred_numpy = pred.detach().numpy().reshape(7)\n",
    "pred_sig_numpy = torch.sigmoid(pred).detach().numpy().reshape(7)\n",
    "rounded_pred = np.round(pred_sig_numpy, 1)\n",
    "thresholded_pred = tuple(1 if x > 0 else 0 for x in pred_numpy)\n",
    "print(f\"NN Estimation: {list_to_grade[thresholded_pred]}\")\n",
    "print(f\"Full correct class: {view_grade.numpy()}\")\n",
    "print(f\"Model estim. class: {rounded_pred}\")\n"
   ]
  },
  {
   "cell_type": "code",
   "execution_count": 145,
   "id": "e4a7206d-1613-4ea1-8976-f680997ba61f",
   "metadata": {},
   "outputs": [],
   "source": [
    "# create confusion matrix for model\n",
    "from sklearn.metrics import f1_score, roc_auc_score, confusion_matrix\n",
    "\n",
    "def get_stats(model, iterator, device):\n",
    "\n",
    "    epoch_loss = 0\n",
    "    epoch_acc = 0\n",
    "    epoch_plus_minus = 0\n",
    "\n",
    "    model.eval()\n",
    "\n",
    "    pred_classes = []\n",
    "    true_classes = []\n",
    "    roc_pred_classes = []\n",
    "    roc_true_classes = []\n",
    "\n",
    "    cf_pred = []\n",
    "    cf_true = []\n",
    "\n",
    "    with torch.no_grad():\n",
    "\n",
    "        for (x, y) in tqdm(iterator, desc=\"Creating confusion matrix from model\", leave=False):\n",
    "\n",
    "            x = x.to(device)\n",
    "            y = y.to(device)\n",
    "\n",
    "            y_pred, _ = model(x)\n",
    "\n",
    "            # convert matrix into class\n",
    "            for idx, item in enumerate(y_pred):\n",
    "                true_y = y[idx]\n",
    "                max_idx_pred = max([i+1 if x > 0 else 0 for i, x in enumerate(item)])\n",
    "                max_idx_true = max([i+1 if x > 0 else 0 for i, x in enumerate(true_y)])\n",
    "                pred_classes.append(tuple([1 if idx == max_idx_pred else 0 for i in range(len(item))]))\n",
    "                true_classes.append(tuple([1 if idx == max_idx_true else 0 for i in range(len(item))]))\n",
    "                roc_pred_classes.append(tuple([item[i].item() for i in range(len(item))]))\n",
    "                roc_true_classes.append(tuple([true_y[i].item() for i in range(len(item))]))\n",
    "                cf_pred.append(max_idx_pred)\n",
    "                cf_true.append(max_idx_true)\n",
    "\n",
    "    return confusion_matrix(cf_true, cf_pred), \\\n",
    "        roc_auc_score(roc_true_classes, roc_pred_classes, average='weighted', multi_class='ovr'), \\\n",
    "        f1_score(true_classes, pred_classes, average='weighted')"
   ]
  },
  {
   "cell_type": "code",
   "execution_count": 149,
   "id": "32a60eaf-0572-4d86-b090-622d8957af0e",
   "metadata": {},
   "outputs": [
    {
     "name": "stderr",
     "output_type": "stream",
     "text": [
      "                                                                                                                       \r"
     ]
    },
    {
     "name": "stdout",
     "output_type": "stream",
     "text": [
      "Training set metrics:\n",
      "AUC Score: 0.9460 | F1 Score: 0.7967\n"
     ]
    },
    {
     "data": {
      "text/plain": [
       "[Text(0.5, 23.52222222222222, 'Predicted Labels'),\n",
       " Text(50.722222222222214, 0.5, 'True Labels')]"
      ]
     },
     "execution_count": 149,
     "metadata": {},
     "output_type": "execute_result"
    },
    {
     "data": {
      "image/png": "[encoded data removed]",
      "text/plain": [
       "<Figure size 640x480 with 2 Axes>"
      ]
     },
     "metadata": {},
     "output_type": "display_data"
    }
   ],
   "source": [
    "import seaborn as sns\n",
    "import matplotlib.pyplot as plt\n",
    "\n",
    "ticklabels = [\"V4\", \"V5\", \"V6\", \"V7\", \"V8\", \"V9\", \"V10\", \"V11+\"]\n",
    "\n",
    "# get train set stats\n",
    "train_cf_iter = data.DataLoader(train_dataset,\n",
    "                                 shuffle=False,\n",
    "                                 batch_size=1)\n",
    "\n",
    "# get valid set stats\n",
    "valid_cf_iter = data.DataLoader(val_dataset,\n",
    "                                 shuffle=False,\n",
    "                                 batch_size=1)\n",
    "\n",
    "cf_matrix, auc, f1 = get_stats(model, train_cf_iter, device)\n",
    "cf_matrix_norm = cf_matrix.astype('float') / cf_matrix.sum(axis=1)[:, np.newaxis]\n",
    "\n",
    "print(f\"Training set metrics:\")\n",
    "print(f\"AUC Score: {auc:0.4f} | F1 Score: {f1:0.4f}\")\n",
    "ax = sns.heatmap(cf_matrix_norm, annot=True, fmt='.0%', xticklabels=ticklabels, yticklabels=ticklabels)\n",
    "ax.set(xlabel=\"Predicted Labels\", ylabel=\"True Labels\")"
   ]
  },
  {
   "cell_type": "code",
   "execution_count": 148,
   "id": "ce196731-1fa5-4ff4-b7f0-5a841e6ee687",
   "metadata": {},
   "outputs": [
    {
     "name": "stderr",
     "output_type": "stream",
     "text": [
      "                                                                                                                       \r"
     ]
    },
    {
     "name": "stdout",
     "output_type": "stream",
     "text": [
      "Validation set metrics:\n",
      "AUC Score: 0.9403 | F1 Score: 0.7947\n"
     ]
    },
    {
     "data": {
      "text/plain": [
       "[Text(0.5, 23.52222222222222, 'Predicted Labels'),\n",
       " Text(50.722222222222214, 0.5, 'True Labels')]"
      ]
     },
     "execution_count": 148,
     "metadata": {},
     "output_type": "execute_result"
    },
    {
     "data": {
      "image/png": "[encoded data removed]",
      "text/plain": [
       "<Figure size 640x480 with 2 Axes>"
      ]
     },
     "metadata": {},
     "output_type": "display_data"
    }
   ],
   "source": [
    "# get valid set stats\n",
    "cf_matrix, auc, f1 = get_stats(model, valid_cf_iter, device)\n",
    "cf_matrix_norm = cf_matrix.astype('float') / cf_matrix.sum(axis=1)[:, np.newaxis]\n",
    "\n",
    "print(f\"Validation set metrics:\")\n",
    "print(f\"AUC Score: {auc:0.4f} | F1 Score: {f1:0.4f}\")\n",
    "ax = sns.heatmap(cf_matrix_norm, annot=True, fmt='.0%', xticklabels=ticklabels, yticklabels=ticklabels)\n",
    "ax.set(xlabel=\"Predicted Labels\", ylabel=\"True Labels\")"
   ]
  },
  {
   "cell_type": "code",
   "execution_count": 293,
   "id": "7f2644b6-3cd2-48fb-bf50-c0d9ab7aff58",
   "metadata": {},
   "outputs": [],
   "source": [
    "# save the model for inference\n",
    "torch.save(model, 'moonboard-clf.pth')"
   ]
  },
  {
   "cell_type": "code",
   "execution_count": 150,
   "id": "cdd45152-e190-46cf-81f0-ce4d4b2dea59",
   "metadata": {},
   "outputs": [],
   "source": [
    "# save using onnx runtime for inference\n",
    "model = model.to(device)\n",
    "board = board.to(device)\n",
    "torch.onnx.export(model,                     # model being run\n",
    "                  board,                     # model input (or a tuple for multiple inputs)\n",
    "                  \"moonboard_clf.onnx\",      # where to save the model (can be a file or file-like object)\n",
    "                  export_params=True,        # store the trained parameter weights inside the model file\n",
    "                            # the ONNX version to export the model to\n",
    "                    # whether to execute constant folding for optimization\n",
    "                  input_names = ['input'],   # the model's input names\n",
    "                  output_names = ['output'], # the model's output names\n",
    "                  dynamic_axes={'input' : {0 : 'batch_size'},    # variable length axes\n",
    "                                'output' : {0 : 'batch_size'}})"
   ]
  },
  {
   "cell_type": "code",
   "execution_count": null,
   "id": "64f7063d-af69-448d-8afa-21ae1a4aa011",
   "metadata": {},
   "outputs": [],
   "source": []
  }
 ],
 "metadata": {
  "kernelspec": {
   "display_name": "Python 3 (ipykernel)",
   "language": "python",
   "name": "python3"
  },
  "language_info": {
   "codemirror_mode": {
    "name": "ipython",
    "version": 3
   },
   "file_extension": ".py",
   "mimetype": "text/x-python",
   "name": "python",
   "nbconvert_exporter": "python",
   "pygments_lexer": "ipython3",
   "version": "3.11.6"
  }
 },
 "nbformat": 4,
 "nbformat_minor": 5
}
