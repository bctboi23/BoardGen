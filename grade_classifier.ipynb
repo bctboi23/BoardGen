{
 "cells": [
  {
   "cell_type": "code",
   "execution_count": 1,
   "id": "92f61fed-b2cd-40f9-a8a8-6638f6b23905",
   "metadata": {},
   "outputs": [],
   "source": [
    "import pandas as pd\n",
    "import numpy as np\n",
    "from sklearn.model_selection import train_test_split"
   ]
  },
  {
   "cell_type": "code",
   "execution_count": 2,
   "id": "778c58a5-f4c8-4971-b3d1-5bf1c07f3f9f",
   "metadata": {},
   "outputs": [],
   "source": [
    "data = np.load('board_grade.npy', allow_pickle=True)"
   ]
  },
  {
   "cell_type": "code",
   "execution_count": 3,
   "id": "72f6629e-ae07-4941-858b-4c8a338999fa",
   "metadata": {},
   "outputs": [],
   "source": [
    "x, y = data[:, 1], data[:, 0]"
   ]
  },
  {
   "cell_type": "code",
   "execution_count": 4,
   "id": "de2e73b2-7e71-484b-aaf8-3c457ecf62ec",
   "metadata": {},
   "outputs": [],
   "source": [
    "for i in range(y.shape[0]):\n",
    "    try:\n",
    "        assert y[i].shape == y[i+1].shape\n",
    "    except:\n",
    "        if i + 1 < y.shape[0]:\n",
    "            print(y[i+1])"
   ]
  },
  {
   "cell_type": "code",
   "execution_count": 5,
   "id": "144a4d2f-a1ce-4ee1-b2aa-3b0740d7bf59",
   "metadata": {},
   "outputs": [],
   "source": [
    "all_boards = np.stack(x).reshape(-1, 18, 11, 2)\n",
    "all_classes = np.stack(y).reshape(-1, 7)"
   ]
  },
  {
   "cell_type": "code",
   "execution_count": 6,
   "id": "e43e808c-52d7-4024-b014-4ad68eac4105",
   "metadata": {},
   "outputs": [],
   "source": [
    "train_boards, train_classes, valid_boards, valid_classes = train_test_split(all_boards, all_classes, test_size=0.2)"
   ]
  },
  {
   "cell_type": "code",
   "execution_count": 7,
   "id": "e324a6b2-79d7-4663-a45d-66b13e4c5e17",
   "metadata": {},
   "outputs": [
    {
     "data": {
      "text/plain": [
       "(15855, 18, 11, 2)"
      ]
     },
     "execution_count": 7,
     "metadata": {},
     "output_type": "execute_result"
    }
   ],
   "source": [
    "train_boards.shape"
   ]
  },
  {
   "cell_type": "code",
   "execution_count": 8,
   "id": "ef68c347-ef32-44fa-a044-e567e735c17e",
   "metadata": {},
   "outputs": [
    {
     "name": "stdout",
     "output_type": "stream",
     "text": [
      "   | A B C D E F G H I J K \n",
      "--------------------------\n",
      "18 | - - - - E - - - - - - \n",
      "17 | - - - - - - - - - - - \n",
      "16 | - - - - - - - - - - - \n",
      "15 | - - - - M - - - - - - \n",
      "14 | - - - - - - - - - - - \n",
      "13 | - - - - - - M - - - - \n",
      "12 | - - - - - - - - - - - \n",
      "11 | - - - - - - - - M - M \n",
      "10 | - - - - - - - - - - - \n",
      " 9 | - - - - - - - - - - - \n",
      " 8 | - - - - - - - - - M - \n",
      " 7 | - - - - - - - - - - - \n",
      " 6 | - - - - - - - - - - - \n",
      " 5 | - - - - - S - - - - - \n",
      " 4 | - - - - - - - - - - - \n",
      " 3 | - - - - - - - - - - - \n",
      " 2 | - - - - - - - - - - - \n",
      " 1 | - - - - - - - - - - - \n",
      "--------------------------\n",
      "Problem Grade: V4 (6B+)\n",
      "\n",
      "\n",
      "   | A B C D E F G H I J K \n",
      "--------------------------\n",
      "18 | - - E - - - - - - - - \n",
      "17 | - - - - - - - - - - - \n",
      "16 | - - - M - - - - - - - \n",
      "15 | - - - - - - - - - - - \n",
      "14 | - - - - - - - - - - - \n",
      "13 | - - - M - - - - - - - \n",
      "12 | - - - - - - - - M - - \n",
      "11 | - - - - - - - - - - - \n",
      "10 | - - - - - - - - - - - \n",
      " 9 | - - - - - M - - - - - \n",
      " 8 | - - - - - - - - - - - \n",
      " 7 | - - - - - - - - - - - \n",
      " 6 | - - - M - - - - - - - \n",
      " 5 | - - - - - - - - - - - \n",
      " 4 | - - - - - - - - - - - \n",
      " 3 | - - - S - - - - - - - \n",
      " 2 | - - - - - - - - - - - \n",
      " 1 | - - - - - - - - - - - \n",
      "--------------------------\n",
      "Problem Grade: V8 (7B/+)\n",
      "\n",
      "\n",
      "   | A B C D E F G H I J K \n",
      "--------------------------\n",
      "18 | - - - - - - - - E - - \n",
      "17 | - - - - - - - - - - - \n",
      "16 | - - - - M - - - - - - \n",
      "15 | - - - - - - - - - - - \n",
      "14 | - - - - M - - - - - - \n",
      "13 | - - - - - - - - - - - \n",
      "12 | - - - - - - - - - - - \n",
      "11 | - - - - - - - - - - - \n",
      "10 | - M - - - - - - - - - \n",
      " 9 | - - - - - - - - - - - \n",
      " 8 | - - - - M - - - - - - \n",
      " 7 | - - - - - - - - - - - \n",
      " 6 | - S - - - - - - - - - \n",
      " 5 | - - S - - - - - - - - \n",
      " 4 | - - - - - - - - - - - \n",
      " 3 | - - - - - - - - - - - \n",
      " 2 | - - - - - - - - - - - \n",
      " 1 | - - - - - - - - - - - \n",
      "--------------------------\n",
      "Problem Grade: V6 (7A)\n"
     ]
    }
   ],
   "source": [
    "grade_to_list = {\n",
    "    \"V4 (6B+)\": tuple([0,0,0,0,0,0,0]),\n",
    "    \"V5 (6C/+)\": tuple([1,0,0,0,0,0,0]),\n",
    "    \"V6 (7A)\": tuple([1,1,0,0,0,0,0]),\n",
    "    \"V7 (7A+)\": tuple([1,1,1,0,0,0,0]),\n",
    "    \"V8 (7B/+)\": tuple([1,1,1,1,0,0,0]),\n",
    "    \"V9 (7C)\": tuple([1,1,1,1,1,0,0]),\n",
    "    \"V10 (7C+)\": tuple([1,1,1,1,1,1,0]),\n",
    "    \"V11 (8A) or harder\": tuple([1,1,1,1,1,1,1]),\n",
    "}\n",
    "\n",
    "grade_num_to_list = {\n",
    "    0: tuple([0,0,0,0,0,0,0]),\n",
    "    1: tuple([1,0,0,0,0,0,0]),\n",
    "    2: tuple([1,1,0,0,0,0,0]),\n",
    "    3: tuple([1,1,1,0,0,0,0]),\n",
    "    4: tuple([1,1,1,1,0,0,0]),\n",
    "    5: tuple([1,1,1,1,1,0,0]),\n",
    "    6: tuple([1,1,1,1,1,1,0]),\n",
    "    7: tuple([1,1,1,1,1,1,1]),\n",
    "}\n",
    "\n",
    "print_dict = {\n",
    "    0: \"M\",\n",
    "    1: \"S\",\n",
    "    2: \"E\"\n",
    "}\n",
    "\n",
    "list_to_grade = dict((v,k) for k,v in grade_to_list.items())\n",
    "list_to_grade_num = dict((v,k) for k,v in grade_num_to_list.items())\n",
    "\n",
    "def print_board_bar():\n",
    "    for i in range(26):\n",
    "        print(\"-\", end=\"\")\n",
    "    print()\n",
    "\n",
    "def print_board(board, grade_list):\n",
    "    print(\" \"*3, end=\"| \")\n",
    "    for i in range(11):\n",
    "        print(f\"{chr(i + 65)}\", end=\" \")\n",
    "    print()\n",
    "    print_board_bar()\n",
    "    for i in range(18):\n",
    "        print(f\"{18 - i:2} |\", end=\" \")\n",
    "        for j in range(11):\n",
    "            num_printed = False\n",
    "            if board[17 - i, j, 0] > 0:\n",
    "                char = \"M\"\n",
    "                if board[17 - i, j, 1] > 0:\n",
    "                    char = \"S\" if i >= 12 else \"E\"\n",
    "                print(char, end=\" \")  \n",
    "                num_printed = True\n",
    "            if not num_printed:\n",
    "                print(\"-\", end=\" \")\n",
    "        print()\n",
    "    print_board_bar()\n",
    "        \n",
    "    print(f\"Problem Grade: {list_to_grade[tuple([round(x) for x in grade_list])]}\")\n",
    "\n",
    "def print_problem(problem_num):\n",
    "    if problem_num < 0 or problem_num > all_boards.shape[0]:\n",
    "        print(\"problem number out of bounds!\")\n",
    "        return -1\n",
    "    print_board(all_boards[problem_num], all_classes[problem_num])\n",
    "\n",
    "print_problem(1)\n",
    "print()\n",
    "print()\n",
    "print_problem(5)\n",
    "print()\n",
    "print()\n",
    "print_problem(10)"
   ]
  },
  {
   "cell_type": "code",
   "execution_count": 9,
   "id": "c4acd7cb-d4c3-48a0-8e3d-85d48242ead3",
   "metadata": {},
   "outputs": [],
   "source": [
    "import torch\n",
    "import torch.nn as nn\n",
    "import torch.nn.functional as F\n",
    "import torch.optim as optim\n",
    "import torch.utils.data as data"
   ]
  },
  {
   "cell_type": "code",
   "execution_count": 10,
   "id": "5e2bda3b-b440-4708-8e3f-ccc954c27ce2",
   "metadata": {},
   "outputs": [],
   "source": [
    "# Convert data to PyTorch tensors\n",
    "x_tensor = torch.tensor(all_boards, dtype=torch.float32)\n",
    "y_tensor = torch.tensor(all_classes, dtype=torch.float32)\n",
    "# create the dataset\n",
    "dataset = data.TensorDataset(x_tensor, y_tensor)\n",
    "val_size = int(len(dataset)*0.2)\n",
    "train_size = len(dataset)- int(len(dataset)*0.2)\n",
    "\n",
    "# do stratified random sampling\n",
    "# generate indices: instead of the actual data we pass in integers instead\n",
    "train_indices, val_indices, _, _ = train_test_split(\n",
    "    range(len(dataset)),\n",
    "    y_tensor,\n",
    "    stratify=y_tensor,\n",
    "    test_size=val_size,\n",
    "    random_state=42\n",
    ")\n",
    "\n",
    "# generate subset based on indices\n",
    "train_dataset = data.Subset(dataset, train_indices)\n",
    "val_dataset = data.Subset(dataset, val_indices)\n",
    "\n",
    "\n",
    "#train_dataset, val_dataset = data.random_split(dataset, [train_size, val_size])"
   ]
  },
  {
   "cell_type": "code",
   "execution_count": 11,
   "id": "e6d4a136-2393-4a76-9b26-253c23603d39",
   "metadata": {},
   "outputs": [
    {
     "name": "stdout",
     "output_type": "stream",
     "text": [
      "Class weights: [0.010582424411955484, 0.015532026781826275, 0.03399583376073786, 0.05911921225297821, 0.044299678536337844, 0.18310533795019643, 0.19560214143047688, 0.45776334487549103]\n"
     ]
    }
   ],
   "source": [
    "# create an oversampler\n",
    "# Define a function to calculate class weights\n",
    "def calculate_class_weights(dataset, num_classes):\n",
    "    class_counts = [0] * num_classes\n",
    "\n",
    "    # Count occurrences of each class in the dataset\n",
    "    for sample in dataset:\n",
    "        label = max([i+1 if x > 0 else 0 for i, x in enumerate(sample[1])])\n",
    "        class_counts[label] += 1\n",
    "\n",
    "    # Calculate normalized class weights\n",
    "    class_weights = [1 / (count) for count in class_counts]\n",
    "    weights_total = sum(class_weights)\n",
    "    class_weights_normalized = [weight / weights_total for weight in class_weights]\n",
    "\n",
    "    return class_weights_normalized\n",
    "\n",
    "# Calculate sample weights from class weights\n",
    "class_weights = calculate_class_weights(train_dataset, 8)\n",
    "labels = [max([i+1 if x > 0 else 0 for i, x in enumerate(sample[1])]) for sample in train_dataset]\n",
    "sample_weights = [class_weights[label] for label in labels]\n",
    "\n",
    "# Create upsampler using sample weights\n",
    "train_sampler = data.WeightedRandomSampler(weights=sample_weights, num_samples=len(train_dataset), replacement=True)\n",
    "\n",
    "print(\"Class weights:\", class_weights)"
   ]
  },
  {
   "cell_type": "code",
   "execution_count": 12,
   "id": "62095b30-6763-46ad-a7ff-2efd00d35848",
   "metadata": {},
   "outputs": [],
   "source": [
    "INPUT_DIM = 18 * 11 * 2\n",
    "OUTPUT_DIM = 7\n",
    "\n",
    "def epoch_time(start_time, end_time):\n",
    "    elapsed_time = end_time - start_time\n",
    "    elapsed_mins = int(elapsed_time / 60)\n",
    "    elapsed_secs = int(elapsed_time - (elapsed_mins * 60))\n",
    "    return elapsed_mins, elapsed_secs\n",
    "\n",
    "# calculate the number of exactly correct predictions\n",
    "def calculate_accuracy(y_pred, y):\n",
    "    thresh_pred = (y_pred > 0).float()\n",
    "    thresh_y = (y > 0).float()\n",
    "    correct = torch.tensor(0).to(\"cuda\")\n",
    "    for i in range(y.shape[0]):\n",
    "        correct += (torch.sum(thresh_y[i]) == torch.sum(thresh_pred[i]))\n",
    "    acc = correct.float() / y.shape[0]\n",
    "    return acc\n",
    "\n",
    "# calculate the number of correct predictions within one class\n",
    "def calculate_plus_minus_one(y_pred, y):\n",
    "    thresh_pred = (y_pred > 0).float()\n",
    "    thresh_y = (y > 0).float()\n",
    "    correct = torch.tensor(0).to(\"cuda\")\n",
    "    for i in range(y.shape[0]):\n",
    "        correct += (torch.abs(torch.sum(thresh_y[i]) - torch.sum(thresh_pred[i])) <= 1)\n",
    "    acc = correct.float() / y.shape[0]\n",
    "    return acc"
   ]
  },
  {
   "cell_type": "code",
   "execution_count": 13,
   "id": "b42e1524-492b-40f3-9675-4ec94595d395",
   "metadata": {},
   "outputs": [],
   "source": [
    "# custom weight sharing final layer for ordinal regression, in the style of CORAL (1 weight, K - 1 bias)\n",
    "# doing it this way, along with the way classes are set up (a binary classification with K - 1 classes) assures rank constisency and improves performance\n",
    "# for the small MLP. however, it limits the predictive power of the deeper model, so instead the deeper model relies on label smoothing and \n",
    "# other regularization methods and learns the ordinal ranking itself\n",
    "class CoralLayer(torch.nn.Module):\n",
    "    def __init__(self, size_in, num_classes):\n",
    "        super().__init__()\n",
    "        self.size_in, self.size_out = size_in, 1\n",
    "        self.coral_weight = torch.nn.Linear(self.size_in, 1, bias=False)\n",
    "        self.coral_bias = torch.nn.Parameter(torch.arange(num_classes, 0, -1).float() / (num_classes))\n",
    "\n",
    "    def forward(self, x):\n",
    "        return self.coral_weight(x) + self.coral_bias"
   ]
  },
  {
   "cell_type": "code",
   "execution_count": 14,
   "id": "35709637-b69e-417b-b3b0-140a3d9f1329",
   "metadata": {},
   "outputs": [],
   "source": [
    "# a small MLP, to get a baseline for likely performance\n",
    "class MLP(nn.Module):\n",
    "    def __init__(self, input_dim, output_dim):\n",
    "        super().__init__()\n",
    "\n",
    "        self.input_fc = nn.Linear(input_dim, 64)\n",
    "        self.hidden_fc = nn.Linear(64, 32)\n",
    "        self.hidden_fc2 = nn.Linear(32, 16)\n",
    "        self.output_fc = CoralLayer(16, output_dim)\n",
    "\n",
    "        self.dropout = nn.Dropout(0.5)\n",
    "\n",
    "    def forward(self, x):\n",
    "        batch_size = x.shape[0]\n",
    "        x = x.view(batch_size, -1)\n",
    "        h_1 = self.dropout(F.mish(self.input_fc(x)))\n",
    "        h_2 = self.dropout(F.mish(self.hidden_fc(h_1)))\n",
    "        h_3 = self.dropout(F.mish(self.hidden_fc2(h_2)))\n",
    "        y_pred = self.output_fc(h_3)\n",
    "        return y_pred, h_3\n",
    "\n",
    "device = torch.device('cuda' if torch.cuda.is_available() else 'cpu')"
   ]
  },
  {
   "cell_type": "code",
   "execution_count": 15,
   "id": "c0761aeb-c329-4d5c-8397-5900e9bb9242",
   "metadata": {},
   "outputs": [],
   "source": [
    "# A CNN, where we use regularization and a small effective model to exploit spatial properties in the data\n",
    "class CNN(nn.Module):\n",
    "    def __init__(self, input_channels, input_size, output_dim):\n",
    "        super().__init__()\n",
    "\n",
    "        self.input_conv2d = nn.Conv2d(input_channels, 16, 11, padding=5)\n",
    "        self.pool = nn.AdaptiveMaxPool2d(11)\n",
    "        self.flatten = nn.Flatten()\n",
    "        self.hidden_fc = nn.Linear(16 * 11 * 11, 64)\n",
    "        self.hidden_fc2 = nn.Linear(64, 16)\n",
    "        self.output_fc = CoralLayer(16, output_dim)\n",
    "\n",
    "        self.dropoutConv = nn.Dropout2d(0.5)\n",
    "        self.dropout = nn.Dropout(0.5)\n",
    "\n",
    "    def forward(self, x):\n",
    "        batch_size = x.shape[0]\n",
    "        # use BCHW form instead of BHWC form for Conv layers\n",
    "        x = x.permute(0, 3, 1, 2)\n",
    "        c_1 = self.dropoutConv(F.mish(self.input_conv2d(x)))\n",
    "        h_pool = self.flatten(self.pool(c_1))\n",
    "        h_1 = self.dropout(F.mish(self.hidden_fc(h_pool)))\n",
    "        h_2 = F.mish(self.hidden_fc2(h_1))\n",
    "        y_pred = self.output_fc(h_2)\n",
    "        return y_pred, h_2\n",
    "\n",
    "device = torch.device('cuda' if torch.cuda.is_available() else 'cpu')\n",
    "n_channels = 2"
   ]
  },
  {
   "cell_type": "code",
   "execution_count": 16,
   "id": "52107e08-3400-43e8-953a-20b3f33ffcea",
   "metadata": {},
   "outputs": [],
   "source": [
    "# a deeper residual CNN (ResNet style), where we use a deep network with skip connections to build a more abstract feature set and gain predictive power\n",
    "class ResidualBlock(nn.Module):\n",
    "    \n",
    "    def __init__(self, in_size, hidden_size, out_size, kernel_size, use_pooling = True):\n",
    "        super().__init__()\n",
    "        conv_pad = (kernel_size) // 2 # calculate the proper padding for a given kernel size\n",
    "        self.conv1 = nn.Conv2d(in_size, hidden_size, kernel_size, padding=conv_pad)\n",
    "        self.conv2 = nn.Conv2d(hidden_size, out_size, kernel_size, padding=conv_pad)\n",
    "        self.maxpool = nn.MaxPool2d(kernel_size, stride=1, padding=conv_pad)\n",
    "        \n",
    "        self.dropoutConv = nn.Dropout2d(0.5)\n",
    "        self.use_pooling = use_pooling\n",
    "    \n",
    "    def ConvBlock(self, x):\n",
    "        c_1 = self.dropoutConv(F.mish(self.conv1(x)))\n",
    "        c_2 = self.dropoutConv(F.mish(self.conv2(c_1)))\n",
    "        if self.use_pooling:\n",
    "            d_1 = self.maxpool(c_2)\n",
    "            return d_1\n",
    "        return c_2\n",
    "    \n",
    "    def forward(self, x):\n",
    "        return x + self.ConvBlock(x)\n",
    "\n",
    "\n",
    "class ResNet(nn.Module):\n",
    "    \n",
    "    def __init__(self, input_channels, input_size, output_dim):\n",
    "        super().__init__()\n",
    "        self.input_conv2d = nn.Conv2d(input_channels, 16, 11, padding=5)\n",
    "        self.res_block1 = ResidualBlock(16, 32, 16, 9, False)\n",
    "        self.res_block2 = ResidualBlock(16, 32, 16, 7, True) # after our first two blocks we add a pooling layer\n",
    "        self.res_block3 = ResidualBlock(16, 32, 16, 3, False)\n",
    "        self.pool = nn.AdaptiveMaxPool2d(11)\n",
    "        self.flatten = nn.Flatten()\n",
    "        self.hidden_fc = nn.Linear(16 * 11 * 11, 32)\n",
    "        # we don't use a CORAL layer in the ResNet, as this may limit the predictive power of the deep model\n",
    "        # something to look into for an extension to this is a CORN style loss, so the weight sharing constraint is no longer imposed\n",
    "        self.output_fc = nn.Linear(32, output_dim)\n",
    "        \n",
    "    def forward(self, x):\n",
    "        batch_size = x.shape[0]\n",
    "        # use BCHW form instead of BHWC form for Conv layers\n",
    "        x = x.permute(0, 3, 1, 2)\n",
    "        # input\n",
    "        conv = F.mish(self.input_conv2d(x))\n",
    "        # resnet blocks\n",
    "        b_1 = self.res_block1(conv)\n",
    "        b_2 = self.res_block2(b_1)\n",
    "        b_3 = self.res_block3(b_2)\n",
    "        h_pool = self.flatten(self.pool(b_3))\n",
    "        # fully connected\n",
    "        h_1 = F.mish(self.hidden_fc(h_pool))\n",
    "        y_pred = self.output_fc(h_1)\n",
    "        return y_pred, h_1\n",
    "\n",
    "device = torch.device('cuda' if torch.cuda.is_available() else 'cpu')\n",
    "n_channels = 2"
   ]
  },
  {
   "cell_type": "code",
   "execution_count": 17,
   "id": "ab2373b0-d00a-4006-aa1c-05d330ffa113",
   "metadata": {},
   "outputs": [
    {
     "name": "stdout",
     "output_type": "stream",
     "text": [
      "Number of trainable parameters: 28,039\n"
     ]
    },
    {
     "name": "stderr",
     "output_type": "stream",
     "text": [
      "                                                                                                                       \r"
     ]
    },
    {
     "name": "stdout",
     "output_type": "stream",
     "text": [
      "Epoch: 01 | Epoch Time: 0m 6s\n",
      "\tTrain Loss: 0.05578 | Train Acc:  29.59% | Train Acc +/- 1 Grade:  62.97%\n",
      "\t Val. Loss: 0.03630 |  Val. Acc:  48.39% |  Val. Acc +/- 1 Grade:  81.49%\n"
     ]
    },
    {
     "name": "stderr",
     "output_type": "stream",
     "text": [
      "                                                                                                                       \r"
     ]
    },
    {
     "name": "stdout",
     "output_type": "stream",
     "text": [
      "Epoch: 02 | Epoch Time: 0m 6s\n",
      "\tTrain Loss: 0.04531 | Train Acc:  33.21% | Train Acc +/- 1 Grade:  73.01%\n",
      "\t Val. Loss: 0.03390 |  Val. Acc:  46.14% |  Val. Acc +/- 1 Grade:  81.64%\n"
     ]
    },
    {
     "name": "stderr",
     "output_type": "stream",
     "text": [
      "                                                                                                                       \r"
     ]
    },
    {
     "name": "stdout",
     "output_type": "stream",
     "text": [
      "Epoch: 03 | Epoch Time: 0m 5s\n",
      "\tTrain Loss: 0.04318 | Train Acc:  34.04% | Train Acc +/- 1 Grade:  75.83%\n",
      "\t Val. Loss: 0.03034 |  Val. Acc:  50.48% |  Val. Acc +/- 1 Grade:  85.26%\n"
     ]
    },
    {
     "name": "stderr",
     "output_type": "stream",
     "text": [
      "                                                                                                                       \r"
     ]
    },
    {
     "name": "stdout",
     "output_type": "stream",
     "text": [
      "Epoch: 04 | Epoch Time: 0m 5s\n",
      "\tTrain Loss: 0.04286 | Train Acc:  33.82% | Train Acc +/- 1 Grade:  76.10%\n",
      "\t Val. Loss: 0.02942 |  Val. Acc:  50.78% |  Val. Acc +/- 1 Grade:  86.69%\n"
     ]
    },
    {
     "name": "stderr",
     "output_type": "stream",
     "text": [
      "                                                                                                                       \r"
     ]
    },
    {
     "name": "stdout",
     "output_type": "stream",
     "text": [
      "Epoch: 05 | Epoch Time: 0m 5s\n",
      "\tTrain Loss: 0.04065 | Train Acc:  36.23% | Train Acc +/- 1 Grade:  77.95%\n",
      "\t Val. Loss: 0.02787 |  Val. Acc:  52.22% |  Val. Acc +/- 1 Grade:  87.91%\n"
     ]
    },
    {
     "name": "stderr",
     "output_type": "stream",
     "text": [
      "                                                                                                                       \r"
     ]
    },
    {
     "name": "stdout",
     "output_type": "stream",
     "text": [
      "Epoch: 06 | Epoch Time: 0m 5s\n",
      "\tTrain Loss: 0.03982 | Train Acc:  36.70% | Train Acc +/- 1 Grade:  79.28%\n",
      "\t Val. Loss: 0.02996 |  Val. Acc:  45.99% |  Val. Acc +/- 1 Grade:  87.02%\n"
     ]
    },
    {
     "name": "stderr",
     "output_type": "stream",
     "text": [
      "                                                                                                                       \r"
     ]
    },
    {
     "name": "stdout",
     "output_type": "stream",
     "text": [
      "Epoch: 07 | Epoch Time: 0m 5s\n",
      "\tTrain Loss: 0.03842 | Train Acc:  38.17% | Train Acc +/- 1 Grade:  80.85%\n",
      "\t Val. Loss: 0.02808 |  Val. Acc:  49.82% |  Val. Acc +/- 1 Grade:  87.58%\n"
     ]
    },
    {
     "name": "stderr",
     "output_type": "stream",
     "text": [
      "                                                                                                                       \r"
     ]
    },
    {
     "name": "stdout",
     "output_type": "stream",
     "text": [
      "Epoch: 08 | Epoch Time: 0m 5s\n",
      "\tTrain Loss: 0.03789 | Train Acc:  38.22% | Train Acc +/- 1 Grade:  80.50%\n",
      "\t Val. Loss: 0.02694 |  Val. Acc:  50.45% |  Val. Acc +/- 1 Grade:  88.49%\n"
     ]
    },
    {
     "name": "stderr",
     "output_type": "stream",
     "text": [
      "                                                                                                                       \r"
     ]
    },
    {
     "name": "stdout",
     "output_type": "stream",
     "text": [
      "Epoch: 09 | Epoch Time: 0m 5s\n",
      "\tTrain Loss: 0.03816 | Train Acc:  38.02% | Train Acc +/- 1 Grade:  81.05%\n",
      "\t Val. Loss: 0.02577 |  Val. Acc:  52.47% |  Val. Acc +/- 1 Grade:  89.45%\n"
     ]
    },
    {
     "name": "stderr",
     "output_type": "stream",
     "text": [
      "                                                                                                                       \r"
     ]
    },
    {
     "name": "stdout",
     "output_type": "stream",
     "text": [
      "Epoch: 10 | Epoch Time: 0m 5s\n",
      "\tTrain Loss: 0.03641 | Train Acc:  39.87% | Train Acc +/- 1 Grade:  82.61%\n",
      "\t Val. Loss: 0.02603 |  Val. Acc:  52.34% |  Val. Acc +/- 1 Grade:  89.47%\n"
     ]
    },
    {
     "name": "stderr",
     "output_type": "stream",
     "text": [
      "                                                                                                                       \r"
     ]
    },
    {
     "name": "stdout",
     "output_type": "stream",
     "text": [
      "Epoch: 11 | Epoch Time: 0m 6s\n",
      "\tTrain Loss: 0.03656 | Train Acc:  39.25% | Train Acc +/- 1 Grade:  82.76%\n",
      "\t Val. Loss: 0.02465 |  Val. Acc:  54.98% |  Val. Acc +/- 1 Grade:  90.13%\n"
     ]
    },
    {
     "name": "stderr",
     "output_type": "stream",
     "text": [
      "                                                                                                                       \r"
     ]
    },
    {
     "name": "stdout",
     "output_type": "stream",
     "text": [
      "Epoch: 12 | Epoch Time: 0m 5s\n",
      "\tTrain Loss: 0.03523 | Train Acc:  40.89% | Train Acc +/- 1 Grade:  83.22%\n",
      "\t Val. Loss: 0.02496 |  Val. Acc:  53.76% |  Val. Acc +/- 1 Grade:  90.38%\n"
     ]
    },
    {
     "name": "stderr",
     "output_type": "stream",
     "text": [
      "                                                                                                                       \r"
     ]
    },
    {
     "name": "stdout",
     "output_type": "stream",
     "text": [
      "Epoch: 13 | Epoch Time: 0m 6s\n",
      "\tTrain Loss: 0.03551 | Train Acc:  40.99% | Train Acc +/- 1 Grade:  83.38%\n",
      "\t Val. Loss: 0.02564 |  Val. Acc:  52.95% |  Val. Acc +/- 1 Grade:  89.17%\n"
     ]
    },
    {
     "name": "stderr",
     "output_type": "stream",
     "text": [
      "                                                                                                                       \r"
     ]
    },
    {
     "name": "stdout",
     "output_type": "stream",
     "text": [
      "Epoch: 14 | Epoch Time: 0m 6s\n",
      "\tTrain Loss: 0.03500 | Train Acc:  41.33% | Train Acc +/- 1 Grade:  84.16%\n",
      "\t Val. Loss: 0.02521 |  Val. Acc:  52.54% |  Val. Acc +/- 1 Grade:  89.83%\n"
     ]
    },
    {
     "name": "stderr",
     "output_type": "stream",
     "text": [
      "                                                                                                                       \r"
     ]
    },
    {
     "name": "stdout",
     "output_type": "stream",
     "text": [
      "Epoch: 15 | Epoch Time: 0m 5s\n",
      "\tTrain Loss: 0.03429 | Train Acc:  41.36% | Train Acc +/- 1 Grade:  84.38%\n",
      "\t Val. Loss: 0.02504 |  Val. Acc:  53.39% |  Val. Acc +/- 1 Grade:  89.42%\n"
     ]
    },
    {
     "name": "stderr",
     "output_type": "stream",
     "text": [
      "                                                                                                                       \r"
     ]
    },
    {
     "name": "stdout",
     "output_type": "stream",
     "text": [
      "Epoch: 16 | Epoch Time: 0m 5s\n",
      "\tTrain Loss: 0.03380 | Train Acc:  42.35% | Train Acc +/- 1 Grade:  84.21%\n",
      "\t Val. Loss: 0.02609 |  Val. Acc:  51.00% |  Val. Acc +/- 1 Grade:  88.77%\n"
     ]
    },
    {
     "name": "stderr",
     "output_type": "stream",
     "text": [
      "                                                                                                                       \r"
     ]
    },
    {
     "name": "stdout",
     "output_type": "stream",
     "text": [
      "Epoch: 17 | Epoch Time: 0m 5s\n",
      "\tTrain Loss: 0.03337 | Train Acc:  42.46% | Train Acc +/- 1 Grade:  85.08%\n",
      "\t Val. Loss: 0.02503 |  Val. Acc:  53.76% |  Val. Acc +/- 1 Grade:  89.63%\n"
     ]
    },
    {
     "name": "stderr",
     "output_type": "stream",
     "text": [
      "                                                                                                                       \r"
     ]
    },
    {
     "name": "stdout",
     "output_type": "stream",
     "text": [
      "Epoch: 18 | Epoch Time: 0m 5s\n",
      "\tTrain Loss: 0.03307 | Train Acc:  43.01% | Train Acc +/- 1 Grade:  85.36%\n",
      "\t Val. Loss: 0.02458 |  Val. Acc:  53.22% |  Val. Acc +/- 1 Grade:  90.28%\n"
     ]
    },
    {
     "name": "stderr",
     "output_type": "stream",
     "text": [
      "                                                                                                                       \r"
     ]
    },
    {
     "name": "stdout",
     "output_type": "stream",
     "text": [
      "Epoch: 19 | Epoch Time: 0m 5s\n",
      "\tTrain Loss: 0.03306 | Train Acc:  42.78% | Train Acc +/- 1 Grade:  85.41%\n",
      "\t Val. Loss: 0.02444 |  Val. Acc:  54.15% |  Val. Acc +/- 1 Grade:  90.26%\n"
     ]
    },
    {
     "name": "stderr",
     "output_type": "stream",
     "text": [
      "                                                                                                                       \r"
     ]
    },
    {
     "name": "stdout",
     "output_type": "stream",
     "text": [
      "Epoch: 20 | Epoch Time: 0m 5s\n",
      "\tTrain Loss: 0.03258 | Train Acc:  43.25% | Train Acc +/- 1 Grade:  85.43%\n",
      "\t Val. Loss: 0.02485 |  Val. Acc:  53.49% |  Val. Acc +/- 1 Grade:  90.48%\n"
     ]
    },
    {
     "name": "stderr",
     "output_type": "stream",
     "text": [
      "                                                                                                                       \r"
     ]
    },
    {
     "name": "stdout",
     "output_type": "stream",
     "text": [
      "Epoch: 21 | Epoch Time: 0m 5s\n",
      "\tTrain Loss: 0.03220 | Train Acc:  43.86% | Train Acc +/- 1 Grade:  85.88%\n",
      "\t Val. Loss: 0.02452 |  Val. Acc:  53.72% |  Val. Acc +/- 1 Grade:  90.36%\n"
     ]
    },
    {
     "name": "stderr",
     "output_type": "stream",
     "text": [
      "                                                                                                                       \r"
     ]
    },
    {
     "name": "stdout",
     "output_type": "stream",
     "text": [
      "Epoch: 22 | Epoch Time: 0m 5s\n",
      "\tTrain Loss: 0.03206 | Train Acc:  43.89% | Train Acc +/- 1 Grade:  86.12%\n",
      "\t Val. Loss: 0.02514 |  Val. Acc:  53.02% |  Val. Acc +/- 1 Grade:  89.88%\n"
     ]
    },
    {
     "name": "stderr",
     "output_type": "stream",
     "text": [
      "                                                                                                                       \r"
     ]
    },
    {
     "name": "stdout",
     "output_type": "stream",
     "text": [
      "Epoch: 23 | Epoch Time: 0m 5s\n",
      "\tTrain Loss: 0.03207 | Train Acc:  44.01% | Train Acc +/- 1 Grade:  86.27%\n",
      "\t Val. Loss: 0.02436 |  Val. Acc:  54.51% |  Val. Acc +/- 1 Grade:  91.13%\n"
     ]
    },
    {
     "name": "stderr",
     "output_type": "stream",
     "text": [
      "                                                                                                                       \r"
     ]
    },
    {
     "name": "stdout",
     "output_type": "stream",
     "text": [
      "Epoch: 24 | Epoch Time: 0m 5s\n",
      "\tTrain Loss: 0.03193 | Train Acc:  43.50% | Train Acc +/- 1 Grade:  86.30%\n",
      "\t Val. Loss: 0.02460 |  Val. Acc:  53.87% |  Val. Acc +/- 1 Grade:  90.45%\n"
     ]
    },
    {
     "name": "stderr",
     "output_type": "stream",
     "text": [
      "                                                                                                                       \r"
     ]
    },
    {
     "name": "stdout",
     "output_type": "stream",
     "text": [
      "Epoch: 25 | Epoch Time: 0m 5s\n",
      "\tTrain Loss: 0.03155 | Train Acc:  44.75% | Train Acc +/- 1 Grade:  86.47%\n",
      "\t Val. Loss: 0.02456 |  Val. Acc:  52.71% |  Val. Acc +/- 1 Grade:  90.55%\n"
     ]
    },
    {
     "name": "stderr",
     "output_type": "stream",
     "text": [
      "                                                                                                                       \r"
     ]
    },
    {
     "name": "stdout",
     "output_type": "stream",
     "text": [
      "Epoch: 26 | Epoch Time: 0m 5s\n",
      "\tTrain Loss: 0.03169 | Train Acc:  43.78% | Train Acc +/- 1 Grade:  86.63%\n",
      "\t Val. Loss: 0.02422 |  Val. Acc:  53.92% |  Val. Acc +/- 1 Grade:  90.58%\n"
     ]
    },
    {
     "name": "stderr",
     "output_type": "stream",
     "text": [
      "                                                                                                                       \r"
     ]
    },
    {
     "name": "stdout",
     "output_type": "stream",
     "text": [
      "Epoch: 27 | Epoch Time: 0m 5s\n",
      "\tTrain Loss: 0.03113 | Train Acc:  44.19% | Train Acc +/- 1 Grade:  87.08%\n",
      "\t Val. Loss: 0.02473 |  Val. Acc:  53.02% |  Val. Acc +/- 1 Grade:  90.66%\n"
     ]
    },
    {
     "name": "stderr",
     "output_type": "stream",
     "text": [
      "                                                                                                                       \r"
     ]
    },
    {
     "name": "stdout",
     "output_type": "stream",
     "text": [
      "Epoch: 28 | Epoch Time: 0m 5s\n",
      "\tTrain Loss: 0.03136 | Train Acc:  44.84% | Train Acc +/- 1 Grade:  87.03%\n",
      "\t Val. Loss: 0.02411 |  Val. Acc:  54.91% |  Val. Acc +/- 1 Grade:  90.31%\n"
     ]
    },
    {
     "name": "stderr",
     "output_type": "stream",
     "text": [
      "                                                                                                                       \r"
     ]
    },
    {
     "name": "stdout",
     "output_type": "stream",
     "text": [
      "Epoch: 29 | Epoch Time: 0m 5s\n",
      "\tTrain Loss: 0.03079 | Train Acc:  44.99% | Train Acc +/- 1 Grade:  87.27%\n",
      "\t Val. Loss: 0.02501 |  Val. Acc:  52.84% |  Val. Acc +/- 1 Grade:  89.77%\n"
     ]
    },
    {
     "name": "stderr",
     "output_type": "stream",
     "text": [
      "                                                                                                                       \r"
     ]
    },
    {
     "name": "stdout",
     "output_type": "stream",
     "text": [
      "Epoch: 30 | Epoch Time: 0m 5s\n",
      "\tTrain Loss: 0.03052 | Train Acc:  44.71% | Train Acc +/- 1 Grade:  87.64%\n",
      "\t Val. Loss: 0.02362 |  Val. Acc:  56.47% |  Val. Acc +/- 1 Grade:  91.06%\n"
     ]
    },
    {
     "name": "stderr",
     "output_type": "stream",
     "text": [
      "                                                                                                                       \r"
     ]
    },
    {
     "name": "stdout",
     "output_type": "stream",
     "text": [
      "Epoch: 31 | Epoch Time: 0m 6s\n",
      "\tTrain Loss: 0.03067 | Train Acc:  45.53% | Train Acc +/- 1 Grade:  87.52%\n",
      "\t Val. Loss: 0.02384 |  Val. Acc:  54.86% |  Val. Acc +/- 1 Grade:  90.83%\n"
     ]
    },
    {
     "name": "stderr",
     "output_type": "stream",
     "text": [
      "                                                                                                                       \r"
     ]
    },
    {
     "name": "stdout",
     "output_type": "stream",
     "text": [
      "Epoch: 32 | Epoch Time: 0m 5s\n",
      "\tTrain Loss: 0.03077 | Train Acc:  45.20% | Train Acc +/- 1 Grade:  86.76%\n",
      "\t Val. Loss: 0.02369 |  Val. Acc:  55.11% |  Val. Acc +/- 1 Grade:  90.57%\n"
     ]
    },
    {
     "name": "stderr",
     "output_type": "stream",
     "text": [
      "                                                                                                                       \r"
     ]
    },
    {
     "name": "stdout",
     "output_type": "stream",
     "text": [
      "Epoch: 33 | Epoch Time: 0m 5s\n",
      "\tTrain Loss: 0.03064 | Train Acc:  45.57% | Train Acc +/- 1 Grade:  87.39%\n",
      "\t Val. Loss: 0.02479 |  Val. Acc:  52.66% |  Val. Acc +/- 1 Grade:  90.22%\n"
     ]
    },
    {
     "name": "stderr",
     "output_type": "stream",
     "text": [
      "                                                                                                                       \r"
     ]
    },
    {
     "name": "stdout",
     "output_type": "stream",
     "text": [
      "Epoch: 34 | Epoch Time: 0m 5s\n",
      "\tTrain Loss: 0.03039 | Train Acc:  45.72% | Train Acc +/- 1 Grade:  87.53%\n",
      "\t Val. Loss: 0.02398 |  Val. Acc:  54.23% |  Val. Acc +/- 1 Grade:  91.10%\n"
     ]
    },
    {
     "name": "stderr",
     "output_type": "stream",
     "text": [
      "                                                                                                                       \r"
     ]
    },
    {
     "name": "stdout",
     "output_type": "stream",
     "text": [
      "Epoch: 35 | Epoch Time: 0m 5s\n",
      "\tTrain Loss: 0.03014 | Train Acc:  44.90% | Train Acc +/- 1 Grade:  87.78%\n",
      "\t Val. Loss: 0.02470 |  Val. Acc:  52.21% |  Val. Acc +/- 1 Grade:  91.36%\n"
     ]
    },
    {
     "name": "stderr",
     "output_type": "stream",
     "text": [
      "                                                                                                                       \r"
     ]
    },
    {
     "name": "stdout",
     "output_type": "stream",
     "text": [
      "Epoch: 36 | Epoch Time: 0m 5s\n",
      "\tTrain Loss: 0.02994 | Train Acc:  45.89% | Train Acc +/- 1 Grade:  88.31%\n",
      "\t Val. Loss: 0.02342 |  Val. Acc:  55.59% |  Val. Acc +/- 1 Grade:  91.56%\n"
     ]
    },
    {
     "name": "stderr",
     "output_type": "stream",
     "text": [
      "                                                                                                                       \r"
     ]
    },
    {
     "name": "stdout",
     "output_type": "stream",
     "text": [
      "Epoch: 37 | Epoch Time: 0m 5s\n",
      "\tTrain Loss: 0.03039 | Train Acc:  45.68% | Train Acc +/- 1 Grade:  87.53%\n",
      "\t Val. Loss: 0.02411 |  Val. Acc:  53.92% |  Val. Acc +/- 1 Grade:  90.95%\n"
     ]
    },
    {
     "name": "stderr",
     "output_type": "stream",
     "text": [
      "                                                                                                                       \r"
     ]
    },
    {
     "name": "stdout",
     "output_type": "stream",
     "text": [
      "Epoch: 38 | Epoch Time: 0m 5s\n",
      "\tTrain Loss: 0.02986 | Train Acc:  46.69% | Train Acc +/- 1 Grade:  88.37%\n",
      "\t Val. Loss: 0.02566 |  Val. Acc:  51.15% |  Val. Acc +/- 1 Grade:  89.52%\n"
     ]
    },
    {
     "name": "stderr",
     "output_type": "stream",
     "text": [
      "                                                                                                                       \r"
     ]
    },
    {
     "name": "stdout",
     "output_type": "stream",
     "text": [
      "Epoch: 39 | Epoch Time: 0m 5s\n",
      "\tTrain Loss: 0.02990 | Train Acc:  46.42% | Train Acc +/- 1 Grade:  88.11%\n",
      "\t Val. Loss: 0.02374 |  Val. Acc:  54.88% |  Val. Acc +/- 1 Grade:  91.08%\n"
     ]
    },
    {
     "name": "stderr",
     "output_type": "stream",
     "text": [
      "                                                                                                                       \r"
     ]
    },
    {
     "name": "stdout",
     "output_type": "stream",
     "text": [
      "Epoch: 40 | Epoch Time: 0m 5s\n",
      "\tTrain Loss: 0.02970 | Train Acc:  46.25% | Train Acc +/- 1 Grade:  88.14%\n",
      "\t Val. Loss: 0.02646 |  Val. Acc:  48.55% |  Val. Acc +/- 1 Grade:  89.84%\n"
     ]
    },
    {
     "name": "stderr",
     "output_type": "stream",
     "text": [
      "                                                                                                                       \r"
     ]
    },
    {
     "name": "stdout",
     "output_type": "stream",
     "text": [
      "Epoch: 41 | Epoch Time: 0m 5s\n",
      "\tTrain Loss: 0.02971 | Train Acc:  46.28% | Train Acc +/- 1 Grade:  88.07%\n",
      "\t Val. Loss: 0.02390 |  Val. Acc:  53.77% |  Val. Acc +/- 1 Grade:  91.43%\n"
     ]
    },
    {
     "name": "stderr",
     "output_type": "stream",
     "text": [
      "                                                                                                                       \r"
     ]
    },
    {
     "name": "stdout",
     "output_type": "stream",
     "text": [
      "Epoch: 42 | Epoch Time: 0m 5s\n",
      "\tTrain Loss: 0.02986 | Train Acc:  46.88% | Train Acc +/- 1 Grade:  88.21%\n",
      "\t Val. Loss: 0.02401 |  Val. Acc:  54.38% |  Val. Acc +/- 1 Grade:  91.18%\n"
     ]
    },
    {
     "name": "stderr",
     "output_type": "stream",
     "text": [
      "                                                                                                                       \r"
     ]
    },
    {
     "name": "stdout",
     "output_type": "stream",
     "text": [
      "Epoch: 43 | Epoch Time: 0m 6s\n",
      "\tTrain Loss: 0.02941 | Train Acc:  47.09% | Train Acc +/- 1 Grade:  88.14%\n",
      "\t Val. Loss: 0.02362 |  Val. Acc:  55.38% |  Val. Acc +/- 1 Grade:  91.44%\n"
     ]
    },
    {
     "name": "stderr",
     "output_type": "stream",
     "text": [
      "                                                                                                                       \r"
     ]
    },
    {
     "name": "stdout",
     "output_type": "stream",
     "text": [
      "Epoch: 44 | Epoch Time: 0m 5s\n",
      "\tTrain Loss: 0.02920 | Train Acc:  47.04% | Train Acc +/- 1 Grade:  88.53%\n",
      "\t Val. Loss: 0.02364 |  Val. Acc:  54.75% |  Val. Acc +/- 1 Grade:  90.68%\n"
     ]
    },
    {
     "name": "stderr",
     "output_type": "stream",
     "text": [
      "                                                                                                                       \r"
     ]
    },
    {
     "name": "stdout",
     "output_type": "stream",
     "text": [
      "Epoch: 45 | Epoch Time: 0m 6s\n",
      "\tTrain Loss: 0.02959 | Train Acc:  46.61% | Train Acc +/- 1 Grade:  88.26%\n",
      "\t Val. Loss: 0.02467 |  Val. Acc:  52.68% |  Val. Acc +/- 1 Grade:  91.14%\n"
     ]
    },
    {
     "name": "stderr",
     "output_type": "stream",
     "text": [
      "                                                                                                                       \r"
     ]
    },
    {
     "name": "stdout",
     "output_type": "stream",
     "text": [
      "Epoch: 46 | Epoch Time: 0m 5s\n",
      "\tTrain Loss: 0.02915 | Train Acc:  46.71% | Train Acc +/- 1 Grade:  88.62%\n",
      "\t Val. Loss: 0.02438 |  Val. Acc:  54.25% |  Val. Acc +/- 1 Grade:  90.61%\n"
     ]
    },
    {
     "name": "stderr",
     "output_type": "stream",
     "text": [
      "                                                                                                                       \r"
     ]
    },
    {
     "name": "stdout",
     "output_type": "stream",
     "text": [
      "Epoch: 47 | Epoch Time: 0m 5s\n",
      "\tTrain Loss: 0.02963 | Train Acc:  46.19% | Train Acc +/- 1 Grade:  88.31%\n",
      "\t Val. Loss: 0.02392 |  Val. Acc:  55.66% |  Val. Acc +/- 1 Grade:  90.94%\n"
     ]
    },
    {
     "name": "stderr",
     "output_type": "stream",
     "text": [
      "                                                                                                                       \r"
     ]
    },
    {
     "name": "stdout",
     "output_type": "stream",
     "text": [
      "Epoch: 48 | Epoch Time: 0m 5s\n",
      "\tTrain Loss: 0.02911 | Train Acc:  47.02% | Train Acc +/- 1 Grade:  88.84%\n",
      "\t Val. Loss: 0.02435 |  Val. Acc:  53.39% |  Val. Acc +/- 1 Grade:  90.93%\n"
     ]
    },
    {
     "name": "stderr",
     "output_type": "stream",
     "text": [
      "                                                                                                                       \r"
     ]
    },
    {
     "name": "stdout",
     "output_type": "stream",
     "text": [
      "Epoch: 49 | Epoch Time: 0m 6s\n",
      "\tTrain Loss: 0.02879 | Train Acc:  47.44% | Train Acc +/- 1 Grade:  88.94%\n",
      "\t Val. Loss: 0.02435 |  Val. Acc:  55.89% |  Val. Acc +/- 1 Grade:  91.47%\n"
     ]
    },
    {
     "name": "stderr",
     "output_type": "stream",
     "text": [
      "                                                                                                                       "
     ]
    },
    {
     "name": "stdout",
     "output_type": "stream",
     "text": [
      "Epoch: 50 | Epoch Time: 0m 5s\n",
      "\tTrain Loss: 0.02916 | Train Acc:  47.40% | Train Acc +/- 1 Grade:  88.45%\n",
      "\t Val. Loss: 0.02422 |  Val. Acc:  54.43% |  Val. Acc +/- 1 Grade:  91.29%\n"
     ]
    },
    {
     "name": "stderr",
     "output_type": "stream",
     "text": [
      "\r"
     ]
    }
   ],
   "source": [
    "import time\n",
    "from tqdm import tqdm\n",
    "\n",
    "# fix the random seed; don't modify this\n",
    "torch.manual_seed(23459078)\n",
    "\n",
    "device = torch.device('cuda' if torch.cuda.is_available() else 'cpu')\n",
    "model = MLP(INPUT_DIM, OUTPUT_DIM)\n",
    "BATCH_SIZE = 8\n",
    "\n",
    "train_iterator = data.DataLoader(train_dataset,\n",
    "                                 #shuffle=True,\n",
    "                                 sampler=train_sampler,\n",
    "                                 batch_size=BATCH_SIZE)\n",
    "\n",
    "valid_iterator = data.DataLoader(val_dataset,\n",
    "                                 batch_size=BATCH_SIZE)\n",
    "\n",
    "# Loss and optimizer\n",
    "avg_class_difficulty = torch.tensor([1, 1, 1.1, 1.2, 1.1, 1.2, 2]) # these weights correspond to the relative avg class difficulty (to classify)\n",
    "criterion = nn.BCEWithLogitsLoss(pos_weight=avg_class_difficulty)\n",
    "optimizer = optim.Adam(model.parameters(), lr=1e-3, weight_decay=1e-5)\n",
    "\n",
    "model = model.to(device)\n",
    "criterion = criterion.to(device)\n",
    "\n",
    "# label smoothing, since our dataset is somewhat noisy (due to the subjectiveness of grades and the culture of the moonboard)\n",
    "# this should improve the generalization of our models\n",
    "def label_smoothing(labels, eps = 0.01):\n",
    "    return labels * (1 - eps) + (eps / 2)\n",
    "\n",
    "def train(model, iterator, optimizer, criterion, device, smooth_labels):\n",
    "\n",
    "    epoch_loss = 0\n",
    "    epoch_acc = 0\n",
    "    epoch_plus_minus = 0\n",
    "\n",
    "    model.train()\n",
    "    for (x, y) in tqdm(iterator, desc=\"Training\", leave=False):\n",
    "\n",
    "        x = x.to(device)\n",
    "        y = y.to(device)\n",
    "        optimizer.zero_grad()\n",
    "        y_pred, _ = model(x)\n",
    "\n",
    "        # label smoothing\n",
    "        if smooth_labels:\n",
    "            smoothed_labels = label_smoothing(y)\n",
    "            loss = criterion(y_pred, smoothed_labels)\n",
    "        else:\n",
    "            loss = criterion(y_pred, y)\n",
    "        \n",
    "        acc = calculate_accuracy(y_pred, y)\n",
    "        plus_minus = calculate_plus_minus_one(y_pred, y)\n",
    "        loss.backward()\n",
    "        optimizer.step()\n",
    "\n",
    "        epoch_loss += loss.item()\n",
    "        epoch_acc += acc.item()\n",
    "        epoch_plus_minus += plus_minus.item()\n",
    "\n",
    "    return epoch_loss / (len(iterator) * BATCH_SIZE), epoch_acc / len(iterator), epoch_plus_minus / len(iterator)\n",
    "\n",
    "def evaluate(model, iterator, criterion, device):\n",
    "\n",
    "    epoch_loss = 0\n",
    "    epoch_acc = 0\n",
    "    epoch_plus_minus = 0\n",
    "\n",
    "    model.eval()\n",
    "\n",
    "    with torch.no_grad():\n",
    "\n",
    "        for (x, y) in tqdm(iterator, desc=\"Evaluating\", leave=False):\n",
    "\n",
    "            x = x.to(device)\n",
    "            y = y.to(device)\n",
    "            y_pred, _ = model(x)\n",
    "\n",
    "            loss = criterion(y_pred, y)\n",
    "            acc = calculate_accuracy(y_pred, y)\n",
    "            plus_minus = calculate_plus_minus_one(y_pred, y)\n",
    "\n",
    "            epoch_loss += loss.item()\n",
    "            epoch_acc += acc.item()\n",
    "            epoch_plus_minus += plus_minus.item()\n",
    "\n",
    "    return epoch_loss / (len(iterator) * BATCH_SIZE), epoch_acc / len(iterator), epoch_plus_minus / len(iterator)\n",
    "\n",
    "\n",
    "def full_train_valid_loop(model, checkpoint_name, train_iterator, valid_iterator, criterion, device, label_smoothing = False, epochs = 50):\n",
    "    total_params = sum(p.numel() for p in model.parameters() if p.requires_grad)\n",
    "    print(f\"Number of trainable parameters: {total_params:,}\")\n",
    "    \n",
    "    best_valid_loss = float('inf')\n",
    "    train_loss_list = []\n",
    "    valid_loss_list = []\n",
    "    for epoch in range(epochs):      \n",
    "        start_time = time.monotonic()\n",
    "        train_loss, train_acc, train_plus_minus = train(model, train_iterator, optimizer, criterion, device, label_smoothing)\n",
    "        valid_loss, valid_acc, valid_plus_minus = evaluate(model, valid_iterator, criterion, device)\n",
    "    \n",
    "        train_loss_list.append(train_loss)\n",
    "        valid_loss_list.append(valid_loss)\n",
    "    \n",
    "        if valid_loss < best_valid_loss: # save best model weights\n",
    "            best_valid_loss = valid_loss\n",
    "            torch.save(model.state_dict(), f'{checkpoint_name}.pt')\n",
    "    \n",
    "        end_time = time.monotonic()\n",
    "    \n",
    "        epoch_mins, epoch_secs = epoch_time(start_time, end_time)\n",
    "    \n",
    "        print(f'Epoch: {epoch+1:02} | Epoch Time: {epoch_mins}m {epoch_secs}s')\n",
    "        print(f'\\tTrain Loss: {train_loss:.5f} | Train Acc: {train_acc*100:6.2f}% | Train Acc +/- 1 Grade: {train_plus_minus*100:6.2f}%')\n",
    "        print(f'\\t Val. Loss: {valid_loss:.5f} |  Val. Acc: {valid_acc*100:6.2f}% |  Val. Acc +/- 1 Grade: {valid_plus_minus*100:6.2f}%')\n",
    "\n",
    "    return train_loss_list, valid_loss_list\n",
    "\n",
    "# we don't use label smoothing on our MLP\n",
    "train_loss_list, valid_loss_list = full_train_valid_loop(model, 'mlp', train_iterator, valid_iterator, criterion, device)"
   ]
  },
  {
   "cell_type": "code",
   "execution_count": 18,
   "id": "85d3f3e4-c9ef-413c-aae8-d08e2c89f2c5",
   "metadata": {},
   "outputs": [
    {
     "data": {
      "image/png": "[encoded data removed]",
      "text/plain": [
       "<Figure size 640x480 with 1 Axes>"
      ]
     },
     "metadata": {},
     "output_type": "display_data"
    }
   ],
   "source": [
    "import seaborn as sns\n",
    "import matplotlib.pyplot as plt\n",
    "\n",
    "# plot the training graph\n",
    "def plot_train_graph(train_loss_list, valid_loss_list):\n",
    "    plt.plot(train_loss_list, label='Train Loss')\n",
    "    plt.plot(valid_loss_list, label='Valid Loss')\n",
    "    plt.xlabel('Epochs')\n",
    "    plt.ylabel('Loss')\n",
    "    plt.title('Model training graph')\n",
    "    plt.legend()\n",
    "    plt.show()\n",
    "\n",
    "plot_train_graph(train_loss_list, valid_loss_list)"
   ]
  },
  {
   "cell_type": "code",
   "execution_count": 19,
   "id": "e5d279fd-82fd-445c-b0d0-51614c6b0403",
   "metadata": {},
   "outputs": [
    {
     "name": "stdout",
     "output_type": "stream",
     "text": [
      "   | A B C D E F G H I J K \n",
      "--------------------------\n",
      "18 | E - - - - - - - - - - \n",
      "17 | - - - M - - - - - - - \n",
      "16 | - - - - - - - - - - - \n",
      "15 | - - - - M - - - - - - \n",
      "14 | - - - - - - - - - - - \n",
      "13 | - - - - - - - - - M - \n",
      "12 | - - - - - - - - - - - \n",
      "11 | - - - - - - - M - - - \n",
      "10 | - - - - - - - - - - - \n",
      " 9 | - - - - - - M - - - - \n",
      " 8 | - - - - - - - - - - - \n",
      " 7 | - - - - - - - - - - - \n",
      " 6 | - S - - - - - - - - - \n",
      " 5 | - - S - - - - - - M - \n",
      " 4 | - - - - - - - - - - - \n",
      " 3 | - - - - - - - - - - - \n",
      " 2 | - - - - - - - - - - - \n",
      " 1 | - - - - - - - - - - - \n",
      "--------------------------\n",
      "Problem Grade: V5 (6C/+)\n",
      "NN Estimation: V7 (7A+)\n",
      "Full correct class: [1. 0. 0. 0. 0. 0. 0.]\n",
      "Model estim. class: [1.  0.9 0.7 0.4 0.2 0.  0. ]\n"
     ]
    }
   ],
   "source": [
    "import math\n",
    "\n",
    "# get the best performing model weights\n",
    "model.load_state_dict(torch.load('mlp.pt'))\n",
    "\n",
    "def show_boulder(model, device, dataset):\n",
    "    # grab a boulder from the validation set and see what the net thinks\n",
    "    view_iterator = data.DataLoader(dataset,\n",
    "                                     shuffle=True,\n",
    "                                     batch_size=1)\n",
    "    \n",
    "    # set it up properly for viewing + prediction\n",
    "    board, grade = next(iter(view_iterator))\n",
    "    view_board = board.reshape(18, 11, 2)\n",
    "    view_grade = grade.reshape(7)\n",
    "    board = board.to(device)\n",
    "    grade = grade.to(device)\n",
    "    print_board(view_board, view_grade.numpy())\n",
    "    pred = model.eval()(board)[0].cpu()\n",
    "    pred_numpy = pred.detach().numpy().reshape(7)\n",
    "    pred_sig_numpy = torch.sigmoid(pred).detach().numpy().reshape(7)\n",
    "    rounded_pred = np.round(pred_sig_numpy, 1)\n",
    "    thresholded_pred = tuple(1 if x > 0 else 0 for x in pred_numpy)\n",
    "    print(f\"NN Estimation: {list_to_grade[thresholded_pred]}\")\n",
    "    print(f\"Full correct class: {view_grade.numpy()}\")\n",
    "    print(f\"Model estim. class: {rounded_pred}\")\n",
    "\n",
    "show_boulder(model, device, val_dataset)"
   ]
  },
  {
   "cell_type": "code",
   "execution_count": 20,
   "id": "e4a7206d-1613-4ea1-8976-f680997ba61f",
   "metadata": {},
   "outputs": [],
   "source": [
    "from sklearn.metrics import classification_report, confusion_matrix\n",
    "\n",
    "def get_acc(y, y_pred):\n",
    "    return sum([int(item == y_pred[idx]) for idx, item in enumerate(y)]) / len(y_pred)\n",
    "        \n",
    "def get_acc_plus_minus_one(y, y_pred):\n",
    "    return sum([int(abs(item - y_pred[idx]) <= 1) for idx, item in enumerate(y)]) / len(y_pred)\n",
    "\n",
    "# metrics generator for model\n",
    "def get_metrics(model, iterator, device, thresholds=[0.5, 0.5, 0.5, 0.5, 0.5, 0.5, 0.5, 0.5]):\n",
    "\n",
    "    ticklabels = [\"V4\", \"V5\", \"V6\", \"V7\", \"V8\", \"V9\", \"V10\", \"V11+\"]\n",
    "\n",
    "    model.eval()\n",
    "\n",
    "    cf_pred = []\n",
    "    cf_true = []\n",
    "\n",
    "    with torch.no_grad():\n",
    "\n",
    "        for (x, y) in tqdm(iterator, desc=\"Getting model metrics / generating report\", leave=False):\n",
    "\n",
    "            x = x.to(device)\n",
    "            y = y.to(device)\n",
    "\n",
    "            y_pred, _ = model(x)\n",
    "\n",
    "            # convert prediction vector into class\n",
    "            for idx, item in enumerate(y_pred):\n",
    "                true_y = y[idx]\n",
    "                max_idx_pred = sum([int(F.sigmoid(x) > thresholds[i]) for i, x in enumerate(item)])\n",
    "                max_idx_true = sum([int(x > 0) for i, x in enumerate(true_y)])\n",
    "                cf_pred.append(max_idx_pred)\n",
    "                cf_true.append(max_idx_true)\n",
    "\n",
    "    print(f\"Accuracy: {get_acc(cf_true, cf_pred):.2%} | Accuracy +- 1: {get_acc_plus_minus_one(cf_true, cf_pred):.2%}\")\n",
    "    print(classification_report(cf_true, cf_pred, target_names=ticklabels, digits=4))\n",
    "    cf_matrix = confusion_matrix(cf_true, cf_pred)\n",
    "    cf_matrix_norm = cf_matrix.astype('float') / cf_matrix.sum(axis=1)[:, np.newaxis]\n",
    "    \n",
    "    ax = sns.heatmap(cf_matrix_norm, annot=True, fmt='.0%', xticklabels=ticklabels, yticklabels=ticklabels)\n",
    "    ax.set(xlabel=\"Predicted Labels\", ylabel=\"True Labels\")\n",
    "    plt.show()"
   ]
  },
  {
   "cell_type": "code",
   "execution_count": 21,
   "id": "32a60eaf-0572-4d86-b090-622d8957af0e",
   "metadata": {},
   "outputs": [
    {
     "name": "stdout",
     "output_type": "stream",
     "text": [
      "Training set metrics:\n"
     ]
    },
    {
     "name": "stderr",
     "output_type": "stream",
     "text": [
      "                                                                                                                       \r"
     ]
    },
    {
     "name": "stdout",
     "output_type": "stream",
     "text": [
      "Accuracy: 61.19% | Accuracy +- 1: 94.70%\n",
      "              precision    recall  f1-score   support\n",
      "\n",
      "          V4     0.8168    0.8118    0.8143      6229\n",
      "          V5     0.5725    0.4941    0.5304      4244\n",
      "          V6     0.3927    0.4312    0.4110      1939\n",
      "          V7     0.2927    0.4152    0.3433      1115\n",
      "          V8     0.5497    0.4308    0.4830      1488\n",
      "          V9     0.3509    0.7028    0.4681       360\n",
      "         V10     0.8446    0.6291    0.7211       337\n",
      "        V11+     0.9346    0.9931    0.9630       144\n",
      "\n",
      "    accuracy                         0.6119     15856\n",
      "   macro avg     0.5943    0.6135    0.5918     15856\n",
      "weighted avg     0.6287    0.6119    0.6163     15856\n",
      "\n"
     ]
    },
    {
     "data": {
      "image/png": "[encoded data removed]",
      "text/plain": [
       "<Figure size 640x480 with 2 Axes>"
      ]
     },
     "metadata": {},
     "output_type": "display_data"
    },
    {
     "name": "stdout",
     "output_type": "stream",
     "text": [
      "Validation set metrics:\n"
     ]
    },
    {
     "name": "stderr",
     "output_type": "stream",
     "text": [
      "                                                                                                                       \r"
     ]
    },
    {
     "name": "stdout",
     "output_type": "stream",
     "text": [
      "Accuracy: 55.61% | Accuracy +- 1: 91.55%\n",
      "              precision    recall  f1-score   support\n",
      "\n",
      "          V4     0.8143    0.8117    0.8130      1556\n",
      "          V5     0.5438    0.4618    0.4995      1061\n",
      "          V6     0.3013    0.3423    0.3205       485\n",
      "          V7     0.2237    0.3118    0.2605       279\n",
      "          V8     0.4140    0.3495    0.3790       372\n",
      "          V9     0.2130    0.4000    0.2780        90\n",
      "         V10     0.3220    0.2262    0.2657        84\n",
      "        V11+     0.4483    0.3611    0.4000        36\n",
      "\n",
      "    accuracy                         0.5561      3963\n",
      "   macro avg     0.4101    0.4080    0.4020      3963\n",
      "weighted avg     0.5725    0.5561    0.5617      3963\n",
      "\n"
     ]
    },
    {
     "data": {
      "image/png": "[encoded data removed]",
      "text/plain": [
       "<Figure size 640x480 with 2 Axes>"
      ]
     },
     "metadata": {},
     "output_type": "display_data"
    }
   ],
   "source": [
    "# get metrics\n",
    "train_cf_iter = data.DataLoader(train_dataset,\n",
    "                                 shuffle=False,\n",
    "                                 batch_size=64)\n",
    "\n",
    "valid_cf_iter = data.DataLoader(val_dataset,\n",
    "                                 shuffle=False,\n",
    "                                 batch_size=64)\n",
    "\n",
    "print(f\"Training set metrics:\")\n",
    "get_metrics(model, train_cf_iter, device)\n",
    "print(f\"Validation set metrics:\")\n",
    "get_metrics(model, valid_cf_iter, device)"
   ]
  },
  {
   "cell_type": "code",
   "execution_count": 22,
   "id": "40c5215e-49dd-41f5-ad47-e4cfb088484d",
   "metadata": {},
   "outputs": [
    {
     "name": "stdout",
     "output_type": "stream",
     "text": [
      "Number of trainable parameters: 128,919\n"
     ]
    },
    {
     "name": "stderr",
     "output_type": "stream",
     "text": [
      "                                                                                                                       \r"
     ]
    },
    {
     "name": "stdout",
     "output_type": "stream",
     "text": [
      "Epoch: 01 | Epoch Time: 0m 7s\n",
      "\tTrain Loss: 0.05274 | Train Acc:  33.20% | Train Acc +/- 1 Grade:  67.63%\n",
      "\t Val. Loss: 0.03136 |  Val. Acc:  50.38% |  Val. Acc +/- 1 Grade:  85.47%\n"
     ]
    },
    {
     "name": "stderr",
     "output_type": "stream",
     "text": [
      "                                                                                                                       \r"
     ]
    },
    {
     "name": "stdout",
     "output_type": "stream",
     "text": [
      "Epoch: 02 | Epoch Time: 0m 6s\n",
      "\tTrain Loss: 0.03881 | Train Acc:  42.14% | Train Acc +/- 1 Grade:  82.53%\n",
      "\t Val. Loss: 0.02642 |  Val. Acc:  55.22% |  Val. Acc +/- 1 Grade:  91.66%\n"
     ]
    },
    {
     "name": "stderr",
     "output_type": "stream",
     "text": [
      "                                                                                                                       \r"
     ]
    },
    {
     "name": "stdout",
     "output_type": "stream",
     "text": [
      "Epoch: 03 | Epoch Time: 0m 6s\n",
      "\tTrain Loss: 0.03460 | Train Acc:  45.15% | Train Acc +/- 1 Grade:  86.64%\n",
      "\t Val. Loss: 0.02537 |  Val. Acc:  52.76% |  Val. Acc +/- 1 Grade:  91.48%\n"
     ]
    },
    {
     "name": "stderr",
     "output_type": "stream",
     "text": [
      "                                                                                                                       \r"
     ]
    },
    {
     "name": "stdout",
     "output_type": "stream",
     "text": [
      "Epoch: 04 | Epoch Time: 0m 6s\n",
      "\tTrain Loss: 0.03249 | Train Acc:  47.65% | Train Acc +/- 1 Grade:  88.55%\n",
      "\t Val. Loss: 0.02572 |  Val. Acc:  49.79% |  Val. Acc +/- 1 Grade:  90.88%\n"
     ]
    },
    {
     "name": "stderr",
     "output_type": "stream",
     "text": [
      "                                                                                                                       \r"
     ]
    },
    {
     "name": "stdout",
     "output_type": "stream",
     "text": [
      "Epoch: 05 | Epoch Time: 0m 6s\n",
      "\tTrain Loss: 0.03127 | Train Acc:  49.21% | Train Acc +/- 1 Grade:  89.92%\n",
      "\t Val. Loss: 0.02450 |  Val. Acc:  51.24% |  Val. Acc +/- 1 Grade:  91.59%\n"
     ]
    },
    {
     "name": "stderr",
     "output_type": "stream",
     "text": [
      "                                                                                                                       \r"
     ]
    },
    {
     "name": "stdout",
     "output_type": "stream",
     "text": [
      "Epoch: 06 | Epoch Time: 0m 6s\n",
      "\tTrain Loss: 0.03026 | Train Acc:  50.37% | Train Acc +/- 1 Grade:  90.39%\n",
      "\t Val. Loss: 0.02372 |  Val. Acc:  53.16% |  Val. Acc +/- 1 Grade:  92.31%\n"
     ]
    },
    {
     "name": "stderr",
     "output_type": "stream",
     "text": [
      "                                                                                                                       \r"
     ]
    },
    {
     "name": "stdout",
     "output_type": "stream",
     "text": [
      "Epoch: 07 | Epoch Time: 0m 6s\n",
      "\tTrain Loss: 0.02972 | Train Acc:  51.10% | Train Acc +/- 1 Grade:  90.96%\n",
      "\t Val. Loss: 0.02456 |  Val. Acc:  50.37% |  Val. Acc +/- 1 Grade:  91.36%\n"
     ]
    },
    {
     "name": "stderr",
     "output_type": "stream",
     "text": [
      "                                                                                                                       \r"
     ]
    },
    {
     "name": "stdout",
     "output_type": "stream",
     "text": [
      "Epoch: 08 | Epoch Time: 0m 6s\n",
      "\tTrain Loss: 0.02938 | Train Acc:  52.38% | Train Acc +/- 1 Grade:  91.32%\n",
      "\t Val. Loss: 0.02322 |  Val. Acc:  52.79% |  Val. Acc +/- 1 Grade:  92.84%\n"
     ]
    },
    {
     "name": "stderr",
     "output_type": "stream",
     "text": [
      "                                                                                                                       \r"
     ]
    },
    {
     "name": "stdout",
     "output_type": "stream",
     "text": [
      "Epoch: 09 | Epoch Time: 0m 6s\n",
      "\tTrain Loss: 0.02884 | Train Acc:  52.42% | Train Acc +/- 1 Grade:  91.82%\n",
      "\t Val. Loss: 0.02322 |  Val. Acc:  54.18% |  Val. Acc +/- 1 Grade:  92.49%\n"
     ]
    },
    {
     "name": "stderr",
     "output_type": "stream",
     "text": [
      "                                                                                                                       \r"
     ]
    },
    {
     "name": "stdout",
     "output_type": "stream",
     "text": [
      "Epoch: 10 | Epoch Time: 0m 6s\n",
      "\tTrain Loss: 0.02869 | Train Acc:  52.79% | Train Acc +/- 1 Grade:  91.95%\n",
      "\t Val. Loss: 0.02332 |  Val. Acc:  53.07% |  Val. Acc +/- 1 Grade:  92.57%\n"
     ]
    },
    {
     "name": "stderr",
     "output_type": "stream",
     "text": [
      "                                                                                                                       \r"
     ]
    },
    {
     "name": "stdout",
     "output_type": "stream",
     "text": [
      "Epoch: 11 | Epoch Time: 0m 6s\n",
      "\tTrain Loss: 0.02812 | Train Acc:  53.36% | Train Acc +/- 1 Grade:  92.44%\n",
      "\t Val. Loss: 0.02347 |  Val. Acc:  52.30% |  Val. Acc +/- 1 Grade:  93.15%\n"
     ]
    },
    {
     "name": "stderr",
     "output_type": "stream",
     "text": [
      "                                                                                                                       \r"
     ]
    },
    {
     "name": "stdout",
     "output_type": "stream",
     "text": [
      "Epoch: 12 | Epoch Time: 0m 6s\n",
      "\tTrain Loss: 0.02788 | Train Acc:  53.52% | Train Acc +/- 1 Grade:  92.34%\n",
      "\t Val. Loss: 0.02255 |  Val. Acc:  55.13% |  Val. Acc +/- 1 Grade:  93.17%\n"
     ]
    },
    {
     "name": "stderr",
     "output_type": "stream",
     "text": [
      "                                                                                                                       \r"
     ]
    },
    {
     "name": "stdout",
     "output_type": "stream",
     "text": [
      "Epoch: 13 | Epoch Time: 0m 6s\n",
      "\tTrain Loss: 0.02780 | Train Acc:  53.88% | Train Acc +/- 1 Grade:  92.80%\n",
      "\t Val. Loss: 0.02544 |  Val. Acc:  47.70% |  Val. Acc +/- 1 Grade:  91.10%\n"
     ]
    },
    {
     "name": "stderr",
     "output_type": "stream",
     "text": [
      "                                                                                                                       \r"
     ]
    },
    {
     "name": "stdout",
     "output_type": "stream",
     "text": [
      "Epoch: 14 | Epoch Time: 0m 6s\n",
      "\tTrain Loss: 0.02728 | Train Acc:  54.98% | Train Acc +/- 1 Grade:  93.11%\n",
      "\t Val. Loss: 0.02291 |  Val. Acc:  53.89% |  Val. Acc +/- 1 Grade:  92.26%\n"
     ]
    },
    {
     "name": "stderr",
     "output_type": "stream",
     "text": [
      "                                                                                                                       \r"
     ]
    },
    {
     "name": "stdout",
     "output_type": "stream",
     "text": [
      "Epoch: 15 | Epoch Time: 0m 6s\n",
      "\tTrain Loss: 0.02742 | Train Acc:  54.98% | Train Acc +/- 1 Grade:  92.89%\n",
      "\t Val. Loss: 0.02483 |  Val. Acc:  49.36% |  Val. Acc +/- 1 Grade:  91.77%\n"
     ]
    },
    {
     "name": "stderr",
     "output_type": "stream",
     "text": [
      "                                                                                                                       \r"
     ]
    },
    {
     "name": "stdout",
     "output_type": "stream",
     "text": [
      "Epoch: 16 | Epoch Time: 0m 6s\n",
      "\tTrain Loss: 0.02695 | Train Acc:  55.26% | Train Acc +/- 1 Grade:  93.64%\n",
      "\t Val. Loss: 0.02251 |  Val. Acc:  55.88% |  Val. Acc +/- 1 Grade:  92.06%\n"
     ]
    },
    {
     "name": "stderr",
     "output_type": "stream",
     "text": [
      "                                                                                                                       \r"
     ]
    },
    {
     "name": "stdout",
     "output_type": "stream",
     "text": [
      "Epoch: 17 | Epoch Time: 0m 6s\n",
      "\tTrain Loss: 0.02690 | Train Acc:  55.55% | Train Acc +/- 1 Grade:  93.52%\n",
      "\t Val. Loss: 0.02405 |  Val. Acc:  50.72% |  Val. Acc +/- 1 Grade:  91.91%\n"
     ]
    },
    {
     "name": "stderr",
     "output_type": "stream",
     "text": [
      "                                                                                                                       \r"
     ]
    },
    {
     "name": "stdout",
     "output_type": "stream",
     "text": [
      "Epoch: 18 | Epoch Time: 0m 7s\n",
      "\tTrain Loss: 0.02665 | Train Acc:  56.02% | Train Acc +/- 1 Grade:  93.66%\n",
      "\t Val. Loss: 0.02234 |  Val. Acc:  55.17% |  Val. Acc +/- 1 Grade:  92.87%\n"
     ]
    },
    {
     "name": "stderr",
     "output_type": "stream",
     "text": [
      "                                                                                                                       \r"
     ]
    },
    {
     "name": "stdout",
     "output_type": "stream",
     "text": [
      "Epoch: 19 | Epoch Time: 0m 7s\n",
      "\tTrain Loss: 0.02678 | Train Acc:  56.02% | Train Acc +/- 1 Grade:  93.40%\n",
      "\t Val. Loss: 0.02665 |  Val. Acc:  44.89% |  Val. Acc +/- 1 Grade:  89.26%\n"
     ]
    },
    {
     "name": "stderr",
     "output_type": "stream",
     "text": [
      "                                                                                                                       \r"
     ]
    },
    {
     "name": "stdout",
     "output_type": "stream",
     "text": [
      "Epoch: 20 | Epoch Time: 0m 6s\n",
      "\tTrain Loss: 0.02671 | Train Acc:  55.73% | Train Acc +/- 1 Grade:  93.78%\n",
      "\t Val. Loss: 0.02295 |  Val. Acc:  53.71% |  Val. Acc +/- 1 Grade:  92.69%\n"
     ]
    },
    {
     "name": "stderr",
     "output_type": "stream",
     "text": [
      "                                                                                                                       \r"
     ]
    },
    {
     "name": "stdout",
     "output_type": "stream",
     "text": [
      "Epoch: 21 | Epoch Time: 0m 6s\n",
      "\tTrain Loss: 0.02631 | Train Acc:  56.89% | Train Acc +/- 1 Grade:  94.11%\n",
      "\t Val. Loss: 0.02226 |  Val. Acc:  55.38% |  Val. Acc +/- 1 Grade:  93.20%\n"
     ]
    },
    {
     "name": "stderr",
     "output_type": "stream",
     "text": [
      "                                                                                                                       \r"
     ]
    },
    {
     "name": "stdout",
     "output_type": "stream",
     "text": [
      "Epoch: 22 | Epoch Time: 0m 6s\n",
      "\tTrain Loss: 0.02655 | Train Acc:  56.22% | Train Acc +/- 1 Grade:  93.91%\n",
      "\t Val. Loss: 0.02341 |  Val. Acc:  51.65% |  Val. Acc +/- 1 Grade:  92.88%\n"
     ]
    },
    {
     "name": "stderr",
     "output_type": "stream",
     "text": [
      "                                                                                                                       \r"
     ]
    },
    {
     "name": "stdout",
     "output_type": "stream",
     "text": [
      "Epoch: 23 | Epoch Time: 0m 6s\n",
      "\tTrain Loss: 0.02606 | Train Acc:  57.00% | Train Acc +/- 1 Grade:  94.12%\n",
      "\t Val. Loss: 0.02347 |  Val. Acc:  51.85% |  Val. Acc +/- 1 Grade:  92.47%\n"
     ]
    },
    {
     "name": "stderr",
     "output_type": "stream",
     "text": [
      "                                                                                                                       \r"
     ]
    },
    {
     "name": "stdout",
     "output_type": "stream",
     "text": [
      "Epoch: 24 | Epoch Time: 0m 5s\n",
      "\tTrain Loss: 0.02617 | Train Acc:  56.98% | Train Acc +/- 1 Grade:  94.13%\n",
      "\t Val. Loss: 0.02243 |  Val. Acc:  54.75% |  Val. Acc +/- 1 Grade:  93.15%\n"
     ]
    },
    {
     "name": "stderr",
     "output_type": "stream",
     "text": [
      "                                                                                                                       \r"
     ]
    },
    {
     "name": "stdout",
     "output_type": "stream",
     "text": [
      "Epoch: 25 | Epoch Time: 0m 6s\n",
      "\tTrain Loss: 0.02598 | Train Acc:  57.52% | Train Acc +/- 1 Grade:  94.18%\n",
      "\t Val. Loss: 0.02324 |  Val. Acc:  52.50% |  Val. Acc +/- 1 Grade:  93.18%\n"
     ]
    },
    {
     "name": "stderr",
     "output_type": "stream",
     "text": [
      "                                                                                                                       \r"
     ]
    },
    {
     "name": "stdout",
     "output_type": "stream",
     "text": [
      "Epoch: 26 | Epoch Time: 0m 6s\n",
      "\tTrain Loss: 0.02590 | Train Acc:  57.44% | Train Acc +/- 1 Grade:  94.51%\n",
      "\t Val. Loss: 0.02354 |  Val. Acc:  51.45% |  Val. Acc +/- 1 Grade:  92.88%\n"
     ]
    },
    {
     "name": "stderr",
     "output_type": "stream",
     "text": [
      "                                                                                                                       \r"
     ]
    },
    {
     "name": "stdout",
     "output_type": "stream",
     "text": [
      "Epoch: 27 | Epoch Time: 0m 6s\n",
      "\tTrain Loss: 0.02576 | Train Acc:  57.61% | Train Acc +/- 1 Grade:  94.48%\n",
      "\t Val. Loss: 0.02259 |  Val. Acc:  53.44% |  Val. Acc +/- 1 Grade:  93.28%\n"
     ]
    },
    {
     "name": "stderr",
     "output_type": "stream",
     "text": [
      "                                                                                                                       \r"
     ]
    },
    {
     "name": "stdout",
     "output_type": "stream",
     "text": [
      "Epoch: 28 | Epoch Time: 0m 6s\n",
      "\tTrain Loss: 0.02591 | Train Acc:  56.86% | Train Acc +/- 1 Grade:  94.30%\n",
      "\t Val. Loss: 0.02269 |  Val. Acc:  53.44% |  Val. Acc +/- 1 Grade:  93.18%\n"
     ]
    },
    {
     "name": "stderr",
     "output_type": "stream",
     "text": [
      "                                                                                                                       \r"
     ]
    },
    {
     "name": "stdout",
     "output_type": "stream",
     "text": [
      "Epoch: 29 | Epoch Time: 0m 5s\n",
      "\tTrain Loss: 0.02574 | Train Acc:  58.39% | Train Acc +/- 1 Grade:  94.49%\n",
      "\t Val. Loss: 0.02367 |  Val. Acc:  52.30% |  Val. Acc +/- 1 Grade:  92.80%\n"
     ]
    },
    {
     "name": "stderr",
     "output_type": "stream",
     "text": [
      "                                                                                                                       \r"
     ]
    },
    {
     "name": "stdout",
     "output_type": "stream",
     "text": [
      "Epoch: 30 | Epoch Time: 0m 5s\n",
      "\tTrain Loss: 0.02580 | Train Acc:  58.02% | Train Acc +/- 1 Grade:  94.27%\n",
      "\t Val. Loss: 0.02469 |  Val. Acc:  49.94% |  Val. Acc +/- 1 Grade:  91.89%\n"
     ]
    },
    {
     "name": "stderr",
     "output_type": "stream",
     "text": [
      "                                                                                                                       \r"
     ]
    },
    {
     "name": "stdout",
     "output_type": "stream",
     "text": [
      "Epoch: 31 | Epoch Time: 0m 5s\n",
      "\tTrain Loss: 0.02555 | Train Acc:  57.88% | Train Acc +/- 1 Grade:  94.83%\n",
      "\t Val. Loss: 0.02376 |  Val. Acc:  51.80% |  Val. Acc +/- 1 Grade:  91.64%\n"
     ]
    },
    {
     "name": "stderr",
     "output_type": "stream",
     "text": [
      "                                                                                                                       \r"
     ]
    },
    {
     "name": "stdout",
     "output_type": "stream",
     "text": [
      "Epoch: 32 | Epoch Time: 0m 5s\n",
      "\tTrain Loss: 0.02570 | Train Acc:  57.64% | Train Acc +/- 1 Grade:  94.35%\n",
      "\t Val. Loss: 0.02429 |  Val. Acc:  49.08% |  Val. Acc +/- 1 Grade:  92.62%\n"
     ]
    },
    {
     "name": "stderr",
     "output_type": "stream",
     "text": [
      "                                                                                                                       \r"
     ]
    },
    {
     "name": "stdout",
     "output_type": "stream",
     "text": [
      "Epoch: 33 | Epoch Time: 0m 5s\n",
      "\tTrain Loss: 0.02539 | Train Acc:  58.44% | Train Acc +/- 1 Grade:  94.80%\n",
      "\t Val. Loss: 0.02299 |  Val. Acc:  53.07% |  Val. Acc +/- 1 Grade:  92.82%\n"
     ]
    },
    {
     "name": "stderr",
     "output_type": "stream",
     "text": [
      "                                                                                                                       \r"
     ]
    },
    {
     "name": "stdout",
     "output_type": "stream",
     "text": [
      "Epoch: 34 | Epoch Time: 0m 5s\n",
      "\tTrain Loss: 0.02576 | Train Acc:  57.81% | Train Acc +/- 1 Grade:  94.57%\n",
      "\t Val. Loss: 0.02310 |  Val. Acc:  52.76% |  Val. Acc +/- 1 Grade:  93.03%\n"
     ]
    },
    {
     "name": "stderr",
     "output_type": "stream",
     "text": [
      "                                                                                                                       \r"
     ]
    },
    {
     "name": "stdout",
     "output_type": "stream",
     "text": [
      "Epoch: 35 | Epoch Time: 0m 5s\n",
      "\tTrain Loss: 0.02547 | Train Acc:  58.02% | Train Acc +/- 1 Grade:  94.73%\n",
      "\t Val. Loss: 0.02275 |  Val. Acc:  53.80% |  Val. Acc +/- 1 Grade:  93.05%\n"
     ]
    },
    {
     "name": "stderr",
     "output_type": "stream",
     "text": [
      "                                                                                                                       \r"
     ]
    },
    {
     "name": "stdout",
     "output_type": "stream",
     "text": [
      "Epoch: 36 | Epoch Time: 0m 5s\n",
      "\tTrain Loss: 0.02521 | Train Acc:  58.53% | Train Acc +/- 1 Grade:  94.66%\n",
      "\t Val. Loss: 0.02262 |  Val. Acc:  54.07% |  Val. Acc +/- 1 Grade:  92.85%\n"
     ]
    },
    {
     "name": "stderr",
     "output_type": "stream",
     "text": [
      "                                                                                                                       \r"
     ]
    },
    {
     "name": "stdout",
     "output_type": "stream",
     "text": [
      "Epoch: 37 | Epoch Time: 0m 5s\n",
      "\tTrain Loss: 0.02521 | Train Acc:  58.36% | Train Acc +/- 1 Grade:  94.88%\n",
      "\t Val. Loss: 0.02270 |  Val. Acc:  53.47% |  Val. Acc +/- 1 Grade:  93.33%\n"
     ]
    },
    {
     "name": "stderr",
     "output_type": "stream",
     "text": [
      "                                                                                                                       \r"
     ]
    },
    {
     "name": "stdout",
     "output_type": "stream",
     "text": [
      "Epoch: 38 | Epoch Time: 0m 5s\n",
      "\tTrain Loss: 0.02537 | Train Acc:  58.50% | Train Acc +/- 1 Grade:  94.67%\n",
      "\t Val. Loss: 0.02413 |  Val. Acc:  50.94% |  Val. Acc +/- 1 Grade:  91.92%\n"
     ]
    },
    {
     "name": "stderr",
     "output_type": "stream",
     "text": [
      "                                                                                                                       \r"
     ]
    },
    {
     "name": "stdout",
     "output_type": "stream",
     "text": [
      "Epoch: 39 | Epoch Time: 0m 5s\n",
      "\tTrain Loss: 0.02559 | Train Acc:  58.24% | Train Acc +/- 1 Grade:  94.58%\n",
      "\t Val. Loss: 0.02404 |  Val. Acc:  50.27% |  Val. Acc +/- 1 Grade:  91.97%\n"
     ]
    },
    {
     "name": "stderr",
     "output_type": "stream",
     "text": [
      "                                                                                                                       \r"
     ]
    },
    {
     "name": "stdout",
     "output_type": "stream",
     "text": [
      "Epoch: 40 | Epoch Time: 0m 5s\n",
      "\tTrain Loss: 0.02514 | Train Acc:  59.16% | Train Acc +/- 1 Grade:  95.22%\n",
      "\t Val. Loss: 0.02250 |  Val. Acc:  55.35% |  Val. Acc +/- 1 Grade:  93.36%\n"
     ]
    },
    {
     "name": "stderr",
     "output_type": "stream",
     "text": [
      "                                                                                                                       \r"
     ]
    },
    {
     "name": "stdout",
     "output_type": "stream",
     "text": [
      "Epoch: 41 | Epoch Time: 0m 5s\n",
      "\tTrain Loss: 0.02508 | Train Acc:  59.25% | Train Acc +/- 1 Grade:  94.94%\n",
      "\t Val. Loss: 0.02380 |  Val. Acc:  51.34% |  Val. Acc +/- 1 Grade:  92.83%\n"
     ]
    },
    {
     "name": "stderr",
     "output_type": "stream",
     "text": [
      "                                                                                                                       \r"
     ]
    },
    {
     "name": "stdout",
     "output_type": "stream",
     "text": [
      "Epoch: 42 | Epoch Time: 0m 5s\n",
      "\tTrain Loss: 0.02509 | Train Acc:  58.55% | Train Acc +/- 1 Grade:  95.00%\n",
      "\t Val. Loss: 0.02337 |  Val. Acc:  52.93% |  Val. Acc +/- 1 Grade:  93.00%\n"
     ]
    },
    {
     "name": "stderr",
     "output_type": "stream",
     "text": [
      "                                                                                                                       \r"
     ]
    },
    {
     "name": "stdout",
     "output_type": "stream",
     "text": [
      "Epoch: 43 | Epoch Time: 0m 5s\n",
      "\tTrain Loss: 0.02526 | Train Acc:  58.39% | Train Acc +/- 1 Grade:  94.66%\n",
      "\t Val. Loss: 0.02288 |  Val. Acc:  53.49% |  Val. Acc +/- 1 Grade:  92.75%\n"
     ]
    },
    {
     "name": "stderr",
     "output_type": "stream",
     "text": [
      "                                                                                                                       \r"
     ]
    },
    {
     "name": "stdout",
     "output_type": "stream",
     "text": [
      "Epoch: 44 | Epoch Time: 0m 5s\n",
      "\tTrain Loss: 0.02494 | Train Acc:  59.32% | Train Acc +/- 1 Grade:  95.22%\n",
      "\t Val. Loss: 0.02269 |  Val. Acc:  55.30% |  Val. Acc +/- 1 Grade:  92.35%\n"
     ]
    },
    {
     "name": "stderr",
     "output_type": "stream",
     "text": [
      "                                                                                                                       \r"
     ]
    },
    {
     "name": "stdout",
     "output_type": "stream",
     "text": [
      "Epoch: 45 | Epoch Time: 0m 5s\n",
      "\tTrain Loss: 0.02489 | Train Acc:  59.18% | Train Acc +/- 1 Grade:  95.30%\n",
      "\t Val. Loss: 0.02262 |  Val. Acc:  54.95% |  Val. Acc +/- 1 Grade:  93.23%\n"
     ]
    },
    {
     "name": "stderr",
     "output_type": "stream",
     "text": [
      "                                                                                                                       \r"
     ]
    },
    {
     "name": "stdout",
     "output_type": "stream",
     "text": [
      "Epoch: 46 | Epoch Time: 0m 5s\n",
      "\tTrain Loss: 0.02532 | Train Acc:  59.06% | Train Acc +/- 1 Grade:  94.65%\n",
      "\t Val. Loss: 0.02459 |  Val. Acc:  49.53% |  Val. Acc +/- 1 Grade:  91.94%\n"
     ]
    },
    {
     "name": "stderr",
     "output_type": "stream",
     "text": [
      "                                                                                                                       \r"
     ]
    },
    {
     "name": "stdout",
     "output_type": "stream",
     "text": [
      "Epoch: 47 | Epoch Time: 0m 5s\n",
      "\tTrain Loss: 0.02524 | Train Acc:  58.44% | Train Acc +/- 1 Grade:  94.87%\n",
      "\t Val. Loss: 0.02487 |  Val. Acc:  48.45% |  Val. Acc +/- 1 Grade:  92.40%\n"
     ]
    },
    {
     "name": "stderr",
     "output_type": "stream",
     "text": [
      "                                                                                                                       \r"
     ]
    },
    {
     "name": "stdout",
     "output_type": "stream",
     "text": [
      "Epoch: 48 | Epoch Time: 0m 5s\n",
      "\tTrain Loss: 0.02489 | Train Acc:  59.48% | Train Acc +/- 1 Grade:  95.24%\n",
      "\t Val. Loss: 0.02286 |  Val. Acc:  54.54% |  Val. Acc +/- 1 Grade:  92.80%\n"
     ]
    },
    {
     "name": "stderr",
     "output_type": "stream",
     "text": [
      "                                                                                                                       \r"
     ]
    },
    {
     "name": "stdout",
     "output_type": "stream",
     "text": [
      "Epoch: 49 | Epoch Time: 0m 5s\n",
      "\tTrain Loss: 0.02491 | Train Acc:  59.50% | Train Acc +/- 1 Grade:  95.07%\n",
      "\t Val. Loss: 0.02313 |  Val. Acc:  52.20% |  Val. Acc +/- 1 Grade:  92.78%\n"
     ]
    },
    {
     "name": "stderr",
     "output_type": "stream",
     "text": [
      "                                                                                                                       \r"
     ]
    },
    {
     "name": "stdout",
     "output_type": "stream",
     "text": [
      "Epoch: 50 | Epoch Time: 0m 5s\n",
      "\tTrain Loss: 0.02510 | Train Acc:  59.09% | Train Acc +/- 1 Grade:  95.05%\n",
      "\t Val. Loss: 0.02399 |  Val. Acc:  50.74% |  Val. Acc +/- 1 Grade:  93.25%\n"
     ]
    }
   ],
   "source": [
    "# fix the random seed; don't modify this\n",
    "torch.manual_seed(23459078)\n",
    "\n",
    "# now try training the CNN model and check the stats\n",
    "cnn_model = CNN(n_channels, INPUT_DIM // n_channels, OUTPUT_DIM)\n",
    "\n",
    "# Loss and optimizer\n",
    "criterion = nn.BCEWithLogitsLoss(pos_weight=avg_class_difficulty)\n",
    "optimizer = optim.Adam(cnn_model.parameters(), lr=1e-3, weight_decay=1e-5)\n",
    "\n",
    "cnn_model = cnn_model.to(device)\n",
    "criterion = criterion.to(device)\n",
    "\n",
    "train_loss_list, valid_loss_list = full_train_valid_loop(cnn_model, 'cnn', train_iterator, valid_iterator, criterion, device, label_smoothing = True)"
   ]
  },
  {
   "cell_type": "code",
   "execution_count": 23,
   "id": "9db3ef2f-b98d-44d6-a157-173a4fb7fba5",
   "metadata": {},
   "outputs": [
    {
     "data": {
      "image/png": "[encoded data removed]",
      "text/plain": [
       "<Figure size 640x480 with 1 Axes>"
      ]
     },
     "metadata": {},
     "output_type": "display_data"
    }
   ],
   "source": [
    "# plot our graph\n",
    "plot_train_graph(train_loss_list, valid_loss_list)"
   ]
  },
  {
   "cell_type": "code",
   "execution_count": 24,
   "id": "a384770c-8eef-44a1-98a8-da9f5866e333",
   "metadata": {},
   "outputs": [
    {
     "name": "stdout",
     "output_type": "stream",
     "text": [
      "   | A B C D E F G H I J K \n",
      "--------------------------\n",
      "18 | - - - E - - - - - - - \n",
      "17 | - - - - - - - - - - - \n",
      "16 | - - - - - - - - - - - \n",
      "15 | - - - - M - - - - - - \n",
      "14 | - - - - - - - - - - - \n",
      "13 | - - M - - - - - - - - \n",
      "12 | - - - - - - - - - - - \n",
      "11 | - - - - - M - - - - - \n",
      "10 | - - - M - - - M - - - \n",
      " 9 | - - - - - - - - - - - \n",
      " 8 | - - - - - - - - - - - \n",
      " 7 | - - - - - - - - - - - \n",
      " 6 | - - - - - M S - - - - \n",
      " 5 | - - - - - - - - S - - \n",
      " 4 | - - - - - - - - - - - \n",
      " 3 | - - - - - - - - - - - \n",
      " 2 | - - - - - - - - - - - \n",
      " 1 | - - - - - - - - - - - \n",
      "--------------------------\n",
      "Problem Grade: V4 (6B+)\n",
      "NN Estimation: V5 (6C/+)\n",
      "Full correct class: [0. 0. 0. 0. 0. 0. 0.]\n",
      "Model estim. class: [0.6 0.2 0.  0.  0.  0.  0. ]\n"
     ]
    }
   ],
   "source": [
    "# get the best performing model weights\n",
    "cnn_model.load_state_dict(torch.load('cnn.pt'))\n",
    "\n",
    "# show a boulder\n",
    "show_boulder(cnn_model, device, val_dataset)"
   ]
  },
  {
   "cell_type": "code",
   "execution_count": 25,
   "id": "14f5fa00-ef78-4a97-a0dc-7ce79096ae31",
   "metadata": {},
   "outputs": [
    {
     "name": "stdout",
     "output_type": "stream",
     "text": [
      "Training set metrics:\n"
     ]
    },
    {
     "name": "stderr",
     "output_type": "stream",
     "text": [
      "                                                                                                                       \r"
     ]
    },
    {
     "name": "stdout",
     "output_type": "stream",
     "text": [
      "Accuracy: 65.34% | Accuracy +- 1: 97.37%\n",
      "              precision    recall  f1-score   support\n",
      "\n",
      "          V4     0.8551    0.7674    0.8089      6229\n",
      "          V5     0.5770    0.5561    0.5664      4244\n",
      "          V6     0.4472    0.5869    0.5076      1939\n",
      "          V7     0.3863    0.5345    0.4485      1115\n",
      "          V8     0.7376    0.4892    0.5883      1488\n",
      "          V9     0.5224    0.8111    0.6355       360\n",
      "         V10     0.8261    0.9585    0.8874       337\n",
      "        V11+     0.9536    1.0000    0.9763       144\n",
      "\n",
      "    accuracy                         0.6534     15856\n",
      "   macro avg     0.6632    0.7130    0.6773     15856\n",
      "weighted avg     0.6795    0.6534    0.6603     15856\n",
      "\n"
     ]
    },
    {
     "data": {
      "image/png": "[encoded data removed]",
      "text/plain": [
       "<Figure size 640x480 with 2 Axes>"
      ]
     },
     "metadata": {},
     "output_type": "display_data"
    },
    {
     "name": "stdout",
     "output_type": "stream",
     "text": [
      "Validation set metrics:\n"
     ]
    },
    {
     "name": "stderr",
     "output_type": "stream",
     "text": [
      "                                                                                                                       \r"
     ]
    },
    {
     "name": "stdout",
     "output_type": "stream",
     "text": [
      "Accuracy: 55.36% | Accuracy +- 1: 93.24%\n",
      "              precision    recall  f1-score   support\n",
      "\n",
      "          V4     0.8436    0.7629    0.8012      1556\n",
      "          V5     0.5241    0.4910    0.5071      1061\n",
      "          V6     0.3142    0.4289    0.3627       485\n",
      "          V7     0.2316    0.3262    0.2708       279\n",
      "          V8     0.4760    0.3199    0.3826       372\n",
      "          V9     0.2367    0.4444    0.3089        90\n",
      "         V10     0.3158    0.2857    0.3000        84\n",
      "        V11+     0.3333    0.1111    0.1667        36\n",
      "\n",
      "    accuracy                         0.5536      3963\n",
      "   macro avg     0.4094    0.3963    0.3875      3963\n",
      "weighted avg     0.5861    0.5536    0.5646      3963\n",
      "\n"
     ]
    },
    {
     "data": {
      "image/png": "[encoded data removed]",
      "text/plain": [
       "<Figure size 640x480 with 2 Axes>"
      ]
     },
     "metadata": {},
     "output_type": "display_data"
    }
   ],
   "source": [
    "# get model stats\n",
    "train_cf_iter = data.DataLoader(train_dataset,\n",
    "                                 shuffle=False,\n",
    "                                 batch_size=64)\n",
    "\n",
    "\n",
    "valid_cf_iter = data.DataLoader(val_dataset,\n",
    "                                 shuffle=False,\n",
    "                                 batch_size=64)\n",
    "\n",
    "print(f\"Training set metrics:\")\n",
    "get_metrics(cnn_model, train_cf_iter, device)\n",
    "print(f\"Validation set metrics:\")\n",
    "get_metrics(cnn_model, valid_cf_iter, device)"
   ]
  },
  {
   "cell_type": "code",
   "execution_count": 26,
   "id": "b7f4142d-eea2-42e5-a894-c5720e7287a6",
   "metadata": {},
   "outputs": [
    {
     "name": "stdout",
     "output_type": "stream",
     "text": [
      "Number of trainable parameters: 208,583\n"
     ]
    },
    {
     "name": "stderr",
     "output_type": "stream",
     "text": [
      "                                                                                                                       \r"
     ]
    },
    {
     "name": "stdout",
     "output_type": "stream",
     "text": [
      "Epoch: 01 | Epoch Time: 0m 10s\n",
      "\tTrain Loss: 0.05807 | Train Acc:  26.82% | Train Acc +/- 1 Grade:  62.17%\n",
      "\t Val. Loss: 0.02898 |  Val. Acc:  54.01% |  Val. Acc +/- 1 Grade:  86.00%\n"
     ]
    },
    {
     "name": "stderr",
     "output_type": "stream",
     "text": [
      "                                                                                                                       \r"
     ]
    },
    {
     "name": "stdout",
     "output_type": "stream",
     "text": [
      "Epoch: 02 | Epoch Time: 0m 9s\n",
      "\tTrain Loss: 0.04245 | Train Acc:  39.04% | Train Acc +/- 1 Grade:  78.12%\n",
      "\t Val. Loss: 0.02845 |  Val. Acc:  49.83% |  Val. Acc +/- 1 Grade:  85.06%\n"
     ]
    },
    {
     "name": "stderr",
     "output_type": "stream",
     "text": [
      "                                                                                                                       \r"
     ]
    },
    {
     "name": "stdout",
     "output_type": "stream",
     "text": [
      "Epoch: 03 | Epoch Time: 0m 10s\n",
      "\tTrain Loss: 0.03665 | Train Acc:  44.11% | Train Acc +/- 1 Grade:  84.52%\n",
      "\t Val. Loss: 0.02507 |  Val. Acc:  53.97% |  Val. Acc +/- 1 Grade:  88.71%\n"
     ]
    },
    {
     "name": "stderr",
     "output_type": "stream",
     "text": [
      "                                                                                                                       \r"
     ]
    },
    {
     "name": "stdout",
     "output_type": "stream",
     "text": [
      "Epoch: 04 | Epoch Time: 0m 9s\n",
      "\tTrain Loss: 0.03400 | Train Acc:  46.84% | Train Acc +/- 1 Grade:  86.42%\n",
      "\t Val. Loss: 0.02547 |  Val. Acc:  53.49% |  Val. Acc +/- 1 Grade:  88.63%\n"
     ]
    },
    {
     "name": "stderr",
     "output_type": "stream",
     "text": [
      "                                                                                                                       \r"
     ]
    },
    {
     "name": "stdout",
     "output_type": "stream",
     "text": [
      "Epoch: 05 | Epoch Time: 0m 9s\n",
      "\tTrain Loss: 0.03134 | Train Acc:  50.60% | Train Acc +/- 1 Grade:  88.40%\n",
      "\t Val. Loss: 0.02532 |  Val. Acc:  51.94% |  Val. Acc +/- 1 Grade:  89.11%\n"
     ]
    },
    {
     "name": "stderr",
     "output_type": "stream",
     "text": [
      "                                                                                                                       \r"
     ]
    },
    {
     "name": "stdout",
     "output_type": "stream",
     "text": [
      "Epoch: 06 | Epoch Time: 0m 11s\n",
      "\tTrain Loss: 0.03044 | Train Acc:  51.89% | Train Acc +/- 1 Grade:  89.48%\n",
      "\t Val. Loss: 0.02334 |  Val. Acc:  56.74% |  Val. Acc +/- 1 Grade:  90.96%\n"
     ]
    },
    {
     "name": "stderr",
     "output_type": "stream",
     "text": [
      "                                                                                                                       \r"
     ]
    },
    {
     "name": "stdout",
     "output_type": "stream",
     "text": [
      "Epoch: 07 | Epoch Time: 0m 10s\n",
      "\tTrain Loss: 0.02874 | Train Acc:  54.40% | Train Acc +/- 1 Grade:  90.46%\n",
      "\t Val. Loss: 0.02331 |  Val. Acc:  57.22% |  Val. Acc +/- 1 Grade:  91.20%\n"
     ]
    },
    {
     "name": "stderr",
     "output_type": "stream",
     "text": [
      "                                                                                                                       \r"
     ]
    },
    {
     "name": "stdout",
     "output_type": "stream",
     "text": [
      "Epoch: 08 | Epoch Time: 0m 10s\n",
      "\tTrain Loss: 0.02834 | Train Acc:  55.20% | Train Acc +/- 1 Grade:  90.76%\n",
      "\t Val. Loss: 0.02503 |  Val. Acc:  54.44% |  Val. Acc +/- 1 Grade:  91.41%\n"
     ]
    },
    {
     "name": "stderr",
     "output_type": "stream",
     "text": [
      "                                                                                                                       \r"
     ]
    },
    {
     "name": "stdout",
     "output_type": "stream",
     "text": [
      "Epoch: 09 | Epoch Time: 0m 10s\n",
      "\tTrain Loss: 0.02749 | Train Acc:  56.29% | Train Acc +/- 1 Grade:  91.40%\n",
      "\t Val. Loss: 0.02399 |  Val. Acc:  55.33% |  Val. Acc +/- 1 Grade:  90.83%\n"
     ]
    },
    {
     "name": "stderr",
     "output_type": "stream",
     "text": [
      "                                                                                                                       \r"
     ]
    },
    {
     "name": "stdout",
     "output_type": "stream",
     "text": [
      "Epoch: 10 | Epoch Time: 0m 8s\n",
      "\tTrain Loss: 0.02727 | Train Acc:  56.69% | Train Acc +/- 1 Grade:  91.62%\n",
      "\t Val. Loss: 0.02267 |  Val. Acc:  56.98% |  Val. Acc +/- 1 Grade:  92.62%\n"
     ]
    },
    {
     "name": "stderr",
     "output_type": "stream",
     "text": [
      "                                                                                                                       \r"
     ]
    },
    {
     "name": "stdout",
     "output_type": "stream",
     "text": [
      "Epoch: 11 | Epoch Time: 0m 8s\n",
      "\tTrain Loss: 0.02651 | Train Acc:  57.71% | Train Acc +/- 1 Grade:  92.05%\n",
      "\t Val. Loss: 0.02337 |  Val. Acc:  57.89% |  Val. Acc +/- 1 Grade:  91.26%\n"
     ]
    },
    {
     "name": "stderr",
     "output_type": "stream",
     "text": [
      "                                                                                                                       \r"
     ]
    },
    {
     "name": "stdout",
     "output_type": "stream",
     "text": [
      "Epoch: 12 | Epoch Time: 0m 8s\n",
      "\tTrain Loss: 0.02621 | Train Acc:  58.25% | Train Acc +/- 1 Grade:  92.46%\n",
      "\t Val. Loss: 0.02341 |  Val. Acc:  53.52% |  Val. Acc +/- 1 Grade:  92.49%\n"
     ]
    },
    {
     "name": "stderr",
     "output_type": "stream",
     "text": [
      "                                                                                                                       \r"
     ]
    },
    {
     "name": "stdout",
     "output_type": "stream",
     "text": [
      "Epoch: 13 | Epoch Time: 0m 9s\n",
      "\tTrain Loss: 0.02571 | Train Acc:  58.99% | Train Acc +/- 1 Grade:  92.87%\n",
      "\t Val. Loss: 0.02285 |  Val. Acc:  57.27% |  Val. Acc +/- 1 Grade:  91.53%\n"
     ]
    },
    {
     "name": "stderr",
     "output_type": "stream",
     "text": [
      "                                                                                                                       \r"
     ]
    },
    {
     "name": "stdout",
     "output_type": "stream",
     "text": [
      "Epoch: 14 | Epoch Time: 0m 9s\n",
      "\tTrain Loss: 0.02532 | Train Acc:  59.59% | Train Acc +/- 1 Grade:  92.96%\n",
      "\t Val. Loss: 0.02391 |  Val. Acc:  54.81% |  Val. Acc +/- 1 Grade:  90.70%\n"
     ]
    },
    {
     "name": "stderr",
     "output_type": "stream",
     "text": [
      "                                                                                                                       \r"
     ]
    },
    {
     "name": "stdout",
     "output_type": "stream",
     "text": [
      "Epoch: 15 | Epoch Time: 0m 9s\n",
      "\tTrain Loss: 0.02499 | Train Acc:  60.27% | Train Acc +/- 1 Grade:  93.30%\n",
      "\t Val. Loss: 0.02258 |  Val. Acc:  57.41% |  Val. Acc +/- 1 Grade:  92.42%\n"
     ]
    },
    {
     "name": "stderr",
     "output_type": "stream",
     "text": [
      "                                                                                                                       \r"
     ]
    },
    {
     "name": "stdout",
     "output_type": "stream",
     "text": [
      "Epoch: 16 | Epoch Time: 0m 9s\n",
      "\tTrain Loss: 0.02488 | Train Acc:  60.03% | Train Acc +/- 1 Grade:  93.10%\n",
      "\t Val. Loss: 0.02308 |  Val. Acc:  55.99% |  Val. Acc +/- 1 Grade:  91.99%\n"
     ]
    },
    {
     "name": "stderr",
     "output_type": "stream",
     "text": [
      "                                                                                                                       \r"
     ]
    },
    {
     "name": "stdout",
     "output_type": "stream",
     "text": [
      "Epoch: 17 | Epoch Time: 0m 9s\n",
      "\tTrain Loss: 0.02455 | Train Acc:  61.16% | Train Acc +/- 1 Grade:  93.58%\n",
      "\t Val. Loss: 0.02388 |  Val. Acc:  54.02% |  Val. Acc +/- 1 Grade:  91.97%\n"
     ]
    },
    {
     "name": "stderr",
     "output_type": "stream",
     "text": [
      "                                                                                                                       \r"
     ]
    },
    {
     "name": "stdout",
     "output_type": "stream",
     "text": [
      "Epoch: 18 | Epoch Time: 0m 9s\n",
      "\tTrain Loss: 0.02406 | Train Acc:  61.51% | Train Acc +/- 1 Grade:  93.60%\n",
      "\t Val. Loss: 0.02434 |  Val. Acc:  53.24% |  Val. Acc +/- 1 Grade:  92.55%\n"
     ]
    },
    {
     "name": "stderr",
     "output_type": "stream",
     "text": [
      "                                                                                                                       \r"
     ]
    },
    {
     "name": "stdout",
     "output_type": "stream",
     "text": [
      "Epoch: 19 | Epoch Time: 0m 9s\n",
      "\tTrain Loss: 0.02363 | Train Acc:  62.32% | Train Acc +/- 1 Grade:  94.24%\n",
      "\t Val. Loss: 0.02360 |  Val. Acc:  56.29% |  Val. Acc +/- 1 Grade:  92.67%\n"
     ]
    },
    {
     "name": "stderr",
     "output_type": "stream",
     "text": [
      "                                                                                                                       \r"
     ]
    },
    {
     "name": "stdout",
     "output_type": "stream",
     "text": [
      "Epoch: 20 | Epoch Time: 0m 9s\n",
      "\tTrain Loss: 0.02360 | Train Acc:  62.38% | Train Acc +/- 1 Grade:  94.31%\n",
      "\t Val. Loss: 0.02396 |  Val. Acc:  54.43% |  Val. Acc +/- 1 Grade:  92.36%\n"
     ]
    },
    {
     "name": "stderr",
     "output_type": "stream",
     "text": [
      "                                                                                                                       \r"
     ]
    },
    {
     "name": "stdout",
     "output_type": "stream",
     "text": [
      "Epoch: 21 | Epoch Time: 0m 9s\n",
      "\tTrain Loss: 0.02332 | Train Acc:  62.62% | Train Acc +/- 1 Grade:  94.36%\n",
      "\t Val. Loss: 0.02287 |  Val. Acc:  55.48% |  Val. Acc +/- 1 Grade:  93.37%\n"
     ]
    },
    {
     "name": "stderr",
     "output_type": "stream",
     "text": [
      "                                                                                                                       \r"
     ]
    },
    {
     "name": "stdout",
     "output_type": "stream",
     "text": [
      "Epoch: 22 | Epoch Time: 0m 9s\n",
      "\tTrain Loss: 0.02321 | Train Acc:  63.21% | Train Acc +/- 1 Grade:  94.56%\n",
      "\t Val. Loss: 0.02436 |  Val. Acc:  52.76% |  Val. Acc +/- 1 Grade:  92.36%\n"
     ]
    },
    {
     "name": "stderr",
     "output_type": "stream",
     "text": [
      "                                                                                                                       \r"
     ]
    },
    {
     "name": "stdout",
     "output_type": "stream",
     "text": [
      "Epoch: 23 | Epoch Time: 0m 9s\n",
      "\tTrain Loss: 0.02337 | Train Acc:  62.88% | Train Acc +/- 1 Grade:  94.23%\n",
      "\t Val. Loss: 0.02481 |  Val. Acc:  50.44% |  Val. Acc +/- 1 Grade:  92.87%\n"
     ]
    },
    {
     "name": "stderr",
     "output_type": "stream",
     "text": [
      "                                                                                                                       \r"
     ]
    },
    {
     "name": "stdout",
     "output_type": "stream",
     "text": [
      "Epoch: 24 | Epoch Time: 0m 9s\n",
      "\tTrain Loss: 0.02351 | Train Acc:  62.81% | Train Acc +/- 1 Grade:  94.17%\n",
      "\t Val. Loss: 0.02256 |  Val. Acc:  59.86% |  Val. Acc +/- 1 Grade:  92.21%\n"
     ]
    },
    {
     "name": "stderr",
     "output_type": "stream",
     "text": [
      "                                                                                                                       \r"
     ]
    },
    {
     "name": "stdout",
     "output_type": "stream",
     "text": [
      "Epoch: 25 | Epoch Time: 0m 9s\n",
      "\tTrain Loss: 0.02277 | Train Acc:  63.20% | Train Acc +/- 1 Grade:  94.74%\n",
      "\t Val. Loss: 0.02338 |  Val. Acc:  54.49% |  Val. Acc +/- 1 Grade:  92.09%\n"
     ]
    },
    {
     "name": "stderr",
     "output_type": "stream",
     "text": [
      "                                                                                                                       \r"
     ]
    },
    {
     "name": "stdout",
     "output_type": "stream",
     "text": [
      "Epoch: 26 | Epoch Time: 0m 9s\n",
      "\tTrain Loss: 0.02275 | Train Acc:  64.11% | Train Acc +/- 1 Grade:  94.57%\n",
      "\t Val. Loss: 0.02377 |  Val. Acc:  53.65% |  Val. Acc +/- 1 Grade:  92.41%\n"
     ]
    },
    {
     "name": "stderr",
     "output_type": "stream",
     "text": [
      "                                                                                                                       \r"
     ]
    },
    {
     "name": "stdout",
     "output_type": "stream",
     "text": [
      "Epoch: 27 | Epoch Time: 0m 9s\n",
      "\tTrain Loss: 0.02237 | Train Acc:  64.63% | Train Acc +/- 1 Grade:  94.80%\n",
      "\t Val. Loss: 0.02302 |  Val. Acc:  58.18% |  Val. Acc +/- 1 Grade:  92.31%\n"
     ]
    },
    {
     "name": "stderr",
     "output_type": "stream",
     "text": [
      "                                                                                                                       \r"
     ]
    },
    {
     "name": "stdout",
     "output_type": "stream",
     "text": [
      "Epoch: 28 | Epoch Time: 0m 9s\n",
      "\tTrain Loss: 0.02271 | Train Acc:  63.54% | Train Acc +/- 1 Grade:  94.60%\n",
      "\t Val. Loss: 0.02273 |  Val. Acc:  58.31% |  Val. Acc +/- 1 Grade:  92.75%\n"
     ]
    },
    {
     "name": "stderr",
     "output_type": "stream",
     "text": [
      "                                                                                                                       \r"
     ]
    },
    {
     "name": "stdout",
     "output_type": "stream",
     "text": [
      "Epoch: 29 | Epoch Time: 0m 9s\n",
      "\tTrain Loss: 0.02258 | Train Acc:  64.39% | Train Acc +/- 1 Grade:  94.46%\n",
      "\t Val. Loss: 0.02339 |  Val. Acc:  56.28% |  Val. Acc +/- 1 Grade:  92.69%\n"
     ]
    },
    {
     "name": "stderr",
     "output_type": "stream",
     "text": [
      "                                                                                                                       \r"
     ]
    },
    {
     "name": "stdout",
     "output_type": "stream",
     "text": [
      "Epoch: 30 | Epoch Time: 0m 9s\n",
      "\tTrain Loss: 0.02221 | Train Acc:  64.85% | Train Acc +/- 1 Grade:  94.85%\n",
      "\t Val. Loss: 0.02587 |  Val. Acc:  48.90% |  Val. Acc +/- 1 Grade:  92.82%\n"
     ]
    },
    {
     "name": "stderr",
     "output_type": "stream",
     "text": [
      "                                                                                                                       \r"
     ]
    },
    {
     "name": "stdout",
     "output_type": "stream",
     "text": [
      "Epoch: 31 | Epoch Time: 0m 9s\n",
      "\tTrain Loss: 0.02238 | Train Acc:  64.26% | Train Acc +/- 1 Grade:  94.97%\n",
      "\t Val. Loss: 0.02439 |  Val. Acc:  53.60% |  Val. Acc +/- 1 Grade:  92.32%\n"
     ]
    },
    {
     "name": "stderr",
     "output_type": "stream",
     "text": [
      "                                                                                                                       \r"
     ]
    },
    {
     "name": "stdout",
     "output_type": "stream",
     "text": [
      "Epoch: 32 | Epoch Time: 0m 9s\n",
      "\tTrain Loss: 0.02195 | Train Acc:  64.80% | Train Acc +/- 1 Grade:  94.97%\n",
      "\t Val. Loss: 0.02263 |  Val. Acc:  57.17% |  Val. Acc +/- 1 Grade:  92.99%\n"
     ]
    },
    {
     "name": "stderr",
     "output_type": "stream",
     "text": [
      "                                                                                                                       \r"
     ]
    },
    {
     "name": "stdout",
     "output_type": "stream",
     "text": [
      "Epoch: 33 | Epoch Time: 0m 9s\n",
      "\tTrain Loss: 0.02213 | Train Acc:  64.60% | Train Acc +/- 1 Grade:  95.01%\n",
      "\t Val. Loss: 0.02597 |  Val. Acc:  46.26% |  Val. Acc +/- 1 Grade:  92.31%\n"
     ]
    },
    {
     "name": "stderr",
     "output_type": "stream",
     "text": [
      "                                                                                                                       \r"
     ]
    },
    {
     "name": "stdout",
     "output_type": "stream",
     "text": [
      "Epoch: 34 | Epoch Time: 0m 9s\n",
      "\tTrain Loss: 0.02191 | Train Acc:  65.57% | Train Acc +/- 1 Grade:  95.02%\n",
      "\t Val. Loss: 0.02352 |  Val. Acc:  54.97% |  Val. Acc +/- 1 Grade:  92.74%\n"
     ]
    },
    {
     "name": "stderr",
     "output_type": "stream",
     "text": [
      "                                                                                                                       \r"
     ]
    },
    {
     "name": "stdout",
     "output_type": "stream",
     "text": [
      "Epoch: 35 | Epoch Time: 0m 9s\n",
      "\tTrain Loss: 0.02192 | Train Acc:  65.09% | Train Acc +/- 1 Grade:  95.16%\n",
      "\t Val. Loss: 0.02354 |  Val. Acc:  56.07% |  Val. Acc +/- 1 Grade:  90.68%\n"
     ]
    },
    {
     "name": "stderr",
     "output_type": "stream",
     "text": [
      "                                                                                                                       \r"
     ]
    },
    {
     "name": "stdout",
     "output_type": "stream",
     "text": [
      "Epoch: 36 | Epoch Time: 0m 9s\n",
      "\tTrain Loss: 0.02138 | Train Acc:  66.25% | Train Acc +/- 1 Grade:  95.31%\n",
      "\t Val. Loss: 0.02401 |  Val. Acc:  53.80% |  Val. Acc +/- 1 Grade:  92.85%\n"
     ]
    },
    {
     "name": "stderr",
     "output_type": "stream",
     "text": [
      "                                                                                                                       \r"
     ]
    },
    {
     "name": "stdout",
     "output_type": "stream",
     "text": [
      "Epoch: 37 | Epoch Time: 0m 9s\n",
      "\tTrain Loss: 0.02184 | Train Acc:  65.54% | Train Acc +/- 1 Grade:  94.96%\n",
      "\t Val. Loss: 0.02337 |  Val. Acc:  56.54% |  Val. Acc +/- 1 Grade:  92.57%\n"
     ]
    },
    {
     "name": "stderr",
     "output_type": "stream",
     "text": [
      "                                                                                                                       \r"
     ]
    },
    {
     "name": "stdout",
     "output_type": "stream",
     "text": [
      "Epoch: 38 | Epoch Time: 0m 9s\n",
      "\tTrain Loss: 0.02161 | Train Acc:  65.48% | Train Acc +/- 1 Grade:  95.18%\n",
      "\t Val. Loss: 0.02259 |  Val. Acc:  58.43% |  Val. Acc +/- 1 Grade:  92.88%\n"
     ]
    },
    {
     "name": "stderr",
     "output_type": "stream",
     "text": [
      "                                                                                                                       \r"
     ]
    },
    {
     "name": "stdout",
     "output_type": "stream",
     "text": [
      "Epoch: 39 | Epoch Time: 0m 9s\n",
      "\tTrain Loss: 0.02146 | Train Acc:  66.04% | Train Acc +/- 1 Grade:  95.41%\n",
      "\t Val. Loss: 0.02267 |  Val. Acc:  57.17% |  Val. Acc +/- 1 Grade:  93.43%\n"
     ]
    },
    {
     "name": "stderr",
     "output_type": "stream",
     "text": [
      "                                                                                                                       \r"
     ]
    },
    {
     "name": "stdout",
     "output_type": "stream",
     "text": [
      "Epoch: 40 | Epoch Time: 0m 9s\n",
      "\tTrain Loss: 0.02101 | Train Acc:  67.47% | Train Acc +/- 1 Grade:  95.60%\n",
      "\t Val. Loss: 0.02359 |  Val. Acc:  55.10% |  Val. Acc +/- 1 Grade:  92.72%\n"
     ]
    },
    {
     "name": "stderr",
     "output_type": "stream",
     "text": [
      "                                                                                                                       \r"
     ]
    },
    {
     "name": "stdout",
     "output_type": "stream",
     "text": [
      "Epoch: 41 | Epoch Time: 0m 9s\n",
      "\tTrain Loss: 0.02155 | Train Acc:  65.94% | Train Acc +/- 1 Grade:  95.34%\n",
      "\t Val. Loss: 0.02387 |  Val. Acc:  54.14% |  Val. Acc +/- 1 Grade:  92.29%\n"
     ]
    },
    {
     "name": "stderr",
     "output_type": "stream",
     "text": [
      "                                                                                                                       \r"
     ]
    },
    {
     "name": "stdout",
     "output_type": "stream",
     "text": [
      "Epoch: 42 | Epoch Time: 0m 9s\n",
      "\tTrain Loss: 0.02127 | Train Acc:  66.57% | Train Acc +/- 1 Grade:  95.19%\n",
      "\t Val. Loss: 0.02262 |  Val. Acc:  58.00% |  Val. Acc +/- 1 Grade:  93.27%\n"
     ]
    },
    {
     "name": "stderr",
     "output_type": "stream",
     "text": [
      "                                                                                                                       \r"
     ]
    },
    {
     "name": "stdout",
     "output_type": "stream",
     "text": [
      "Epoch: 43 | Epoch Time: 0m 9s\n",
      "\tTrain Loss: 0.02091 | Train Acc:  67.06% | Train Acc +/- 1 Grade:  95.40%\n",
      "\t Val. Loss: 0.02363 |  Val. Acc:  57.68% |  Val. Acc +/- 1 Grade:  92.75%\n"
     ]
    },
    {
     "name": "stderr",
     "output_type": "stream",
     "text": [
      "                                                                                                                       \r"
     ]
    },
    {
     "name": "stdout",
     "output_type": "stream",
     "text": [
      "Epoch: 44 | Epoch Time: 0m 9s\n",
      "\tTrain Loss: 0.02114 | Train Acc:  66.65% | Train Acc +/- 1 Grade:  95.43%\n",
      "\t Val. Loss: 0.02364 |  Val. Acc:  57.06% |  Val. Acc +/- 1 Grade:  92.77%\n"
     ]
    },
    {
     "name": "stderr",
     "output_type": "stream",
     "text": [
      "                                                                                                                       \r"
     ]
    },
    {
     "name": "stdout",
     "output_type": "stream",
     "text": [
      "Epoch: 45 | Epoch Time: 0m 9s\n",
      "\tTrain Loss: 0.02074 | Train Acc:  67.65% | Train Acc +/- 1 Grade:  95.50%\n",
      "\t Val. Loss: 0.02327 |  Val. Acc:  56.79% |  Val. Acc +/- 1 Grade:  92.97%\n"
     ]
    },
    {
     "name": "stderr",
     "output_type": "stream",
     "text": [
      "                                                                                                                       \r"
     ]
    },
    {
     "name": "stdout",
     "output_type": "stream",
     "text": [
      "Epoch: 46 | Epoch Time: 0m 9s\n",
      "\tTrain Loss: 0.02096 | Train Acc:  67.10% | Train Acc +/- 1 Grade:  95.59%\n",
      "\t Val. Loss: 0.02426 |  Val. Acc:  53.26% |  Val. Acc +/- 1 Grade:  92.45%\n"
     ]
    },
    {
     "name": "stderr",
     "output_type": "stream",
     "text": [
      "                                                                                                                       \r"
     ]
    },
    {
     "name": "stdout",
     "output_type": "stream",
     "text": [
      "Epoch: 47 | Epoch Time: 0m 9s\n",
      "\tTrain Loss: 0.02058 | Train Acc:  67.83% | Train Acc +/- 1 Grade:  95.65%\n",
      "\t Val. Loss: 0.02295 |  Val. Acc:  57.42% |  Val. Acc +/- 1 Grade:  93.45%\n"
     ]
    },
    {
     "name": "stderr",
     "output_type": "stream",
     "text": [
      "                                                                                                                       \r"
     ]
    },
    {
     "name": "stdout",
     "output_type": "stream",
     "text": [
      "Epoch: 48 | Epoch Time: 0m 9s\n",
      "\tTrain Loss: 0.02108 | Train Acc:  66.90% | Train Acc +/- 1 Grade:  95.09%\n",
      "\t Val. Loss: 0.02302 |  Val. Acc:  57.44% |  Val. Acc +/- 1 Grade:  93.02%\n"
     ]
    },
    {
     "name": "stderr",
     "output_type": "stream",
     "text": [
      "                                                                                                                       \r"
     ]
    },
    {
     "name": "stdout",
     "output_type": "stream",
     "text": [
      "Epoch: 49 | Epoch Time: 0m 9s\n",
      "\tTrain Loss: 0.02135 | Train Acc:  67.16% | Train Acc +/- 1 Grade:  95.59%\n",
      "\t Val. Loss: 0.02315 |  Val. Acc:  57.92% |  Val. Acc +/- 1 Grade:  93.15%\n"
     ]
    },
    {
     "name": "stderr",
     "output_type": "stream",
     "text": [
      "                                                                                                                       "
     ]
    },
    {
     "name": "stdout",
     "output_type": "stream",
     "text": [
      "Epoch: 50 | Epoch Time: 0m 9s\n",
      "\tTrain Loss: 0.02087 | Train Acc:  67.04% | Train Acc +/- 1 Grade:  95.76%\n",
      "\t Val. Loss: 0.02269 |  Val. Acc:  57.90% |  Val. Acc +/- 1 Grade:  93.17%\n"
     ]
    },
    {
     "name": "stderr",
     "output_type": "stream",
     "text": [
      "\r"
     ]
    }
   ],
   "source": [
    "# fix the random seed; don't modify this\n",
    "torch.manual_seed(23459078)\n",
    "\n",
    "# now try training the ResNet model and check the stats\n",
    "resnet_model = ResNet(n_channels, INPUT_DIM // n_channels, OUTPUT_DIM)\n",
    "\n",
    "# Loss and optimizer\n",
    "criterion = nn.BCEWithLogitsLoss(pos_weight=avg_class_difficulty)\n",
    "optimizer = optim.Adam(resnet_model.parameters(), lr=1e-3, weight_decay=1e-5)\n",
    "\n",
    "resnet_model = resnet_model.to(device)\n",
    "criterion = criterion.to(device)\n",
    "\n",
    "train_loss_list, valid_loss_list = full_train_valid_loop(resnet_model, 'resnet', train_iterator, valid_iterator, criterion, device, label_smoothing = True)"
   ]
  },
  {
   "cell_type": "code",
   "execution_count": 27,
   "id": "8f9a0864-c07a-4fd3-bf9c-fae6ead77310",
   "metadata": {},
   "outputs": [
    {
     "data": {
      "image/png": "[encoded data removed]",
      "text/plain": [
       "<Figure size 640x480 with 1 Axes>"
      ]
     },
     "metadata": {},
     "output_type": "display_data"
    }
   ],
   "source": [
    "# plot our graph\n",
    "plot_train_graph(train_loss_list, valid_loss_list)"
   ]
  },
  {
   "cell_type": "code",
   "execution_count": 28,
   "id": "2b39b818-a43d-427a-ba53-e41c8d23fb4d",
   "metadata": {},
   "outputs": [
    {
     "name": "stdout",
     "output_type": "stream",
     "text": [
      "   | A B C D E F G H I J K \n",
      "--------------------------\n",
      "18 | - - - - - - - - E - - \n",
      "17 | - - - - - - - - - - - \n",
      "16 | - - - - - - - - - - - \n",
      "15 | - - - - - - M - - - - \n",
      "14 | - - - - - - - - M - - \n",
      "13 | - - - - - - - - - - - \n",
      "12 | - - - - - - - - - - - \n",
      "11 | - - - - - - - - - - - \n",
      "10 | - - - - - - - M - - - \n",
      " 9 | - - - - - - - - - - M \n",
      " 8 | - - - - - - - - - M - \n",
      " 7 | - - - - - - - - - - - \n",
      " 6 | - - - - - - - - - - - \n",
      " 5 | - - - - - - - - - S S \n",
      " 4 | - - - - - - - - - - - \n",
      " 3 | - - - - - - - - - - - \n",
      " 2 | - - - - - - - - - - - \n",
      " 1 | - - - - - - - - - - - \n",
      "--------------------------\n",
      "Problem Grade: V4 (6B+)\n",
      "NN Estimation: V4 (6B+)\n",
      "Full correct class: [0. 0. 0. 0. 0. 0. 0.]\n",
      "Model estim. class: [0.1 0.  0.  0.  0.  0.  0. ]\n"
     ]
    }
   ],
   "source": [
    "# get the best performing model weights\n",
    "resnet_model.load_state_dict(torch.load('resnet.pt'))\n",
    "\n",
    "# show a boulder\n",
    "show_boulder(resnet_model, device, val_dataset)"
   ]
  },
  {
   "cell_type": "code",
   "execution_count": 29,
   "id": "033369f8-909e-47b4-8cf1-07e1be33305a",
   "metadata": {},
   "outputs": [
    {
     "name": "stdout",
     "output_type": "stream",
     "text": [
      "Training set metrics:\n"
     ]
    },
    {
     "name": "stderr",
     "output_type": "stream",
     "text": [
      "                                                                                                                       "
     ]
    },
    {
     "name": "stdout",
     "output_type": "stream",
     "text": [
      "Accuracy: 67.80% | Accuracy +- 1: 97.48%\n",
      "              precision    recall  f1-score   support\n",
      "\n",
      "          V4     0.7901    0.8782    0.8318      6229\n",
      "          V5     0.5921    0.5429    0.5664      4244\n",
      "          V6     0.4531    0.3889    0.4185      1939\n",
      "          V7     0.3745    0.4897    0.4244      1115\n",
      "          V8     0.8356    0.5773    0.6828      1488\n",
      "          V9     0.8297    0.9472    0.8846       360\n",
      "         V10     0.9940    0.9852    0.9896       337\n",
      "        V11+     0.9796    1.0000    0.9897       144\n",
      "\n",
      "    accuracy                         0.6780     15856\n",
      "   macro avg     0.7311    0.7262    0.7235     15856\n",
      "weighted avg     0.6779    0.6780    0.6736     15856\n",
      "\n"
     ]
    },
    {
     "name": "stderr",
     "output_type": "stream",
     "text": [
      "\r"
     ]
    },
    {
     "data": {
      "image/png": "[encoded data removed]",
      "text/plain": [
       "<Figure size 640x480 with 2 Axes>"
      ]
     },
     "metadata": {},
     "output_type": "display_data"
    },
    {
     "name": "stdout",
     "output_type": "stream",
     "text": [
      "Validation set metrics:\n"
     ]
    },
    {
     "name": "stderr",
     "output_type": "stream",
     "text": [
      "                                                                                                                       \r"
     ]
    },
    {
     "name": "stdout",
     "output_type": "stream",
     "text": [
      "Accuracy: 59.85% | Accuracy +- 1: 92.20%\n",
      "              precision    recall  f1-score   support\n",
      "\n",
      "          V4     0.7894    0.8766    0.8307      1556\n",
      "          V5     0.5579    0.5269    0.5419      1061\n",
      "          V6     0.4010    0.3340    0.3645       485\n",
      "          V7     0.2321    0.2903    0.2580       279\n",
      "          V8     0.4916    0.3952    0.4382       372\n",
      "          V9     0.3084    0.3667    0.3350        90\n",
      "         V10     0.2745    0.1667    0.2074        84\n",
      "        V11+     0.5217    0.3333    0.4068        36\n",
      "\n",
      "    accuracy                         0.5985      3963\n",
      "   macro avg     0.4471    0.4112    0.4228      3963\n",
      "weighted avg     0.5884    0.5985    0.5908      3963\n",
      "\n"
     ]
    },
    {
     "data": {
      "image/png": "[encoded data removed]",
      "text/plain": [
       "<Figure size 640x480 with 2 Axes>"
      ]
     },
     "metadata": {},
     "output_type": "display_data"
    }
   ],
   "source": [
    "# get model stats\n",
    "train_cf_iter = data.DataLoader(train_dataset,\n",
    "                                 shuffle=False,\n",
    "                                 batch_size=64)\n",
    "\n",
    "\n",
    "valid_cf_iter = data.DataLoader(val_dataset,\n",
    "                                 shuffle=False,\n",
    "                                 batch_size=64)\n",
    "\n",
    "print(f\"Training set metrics:\")\n",
    "get_metrics(resnet_model, train_cf_iter, device)\n",
    "print(f\"Validation set metrics:\")\n",
    "get_metrics(resnet_model, valid_cf_iter, device)"
   ]
  },
  {
   "cell_type": "code",
   "execution_count": 30,
   "id": "cdd45152-e190-46cf-81f0-ce4d4b2dea59",
   "metadata": {},
   "outputs": [],
   "source": [
    "# save using onnx runtime for inference (only available for MLP since the CNN and the ResNet both use adaptive Max-Pooling)\n",
    "view_iterator = data.DataLoader(dataset,\n",
    "                                     shuffle=True,\n",
    "                                     batch_size=1)\n",
    "\n",
    "board, grade = next(iter(view_iterator))\n",
    "model = model.to(device)\n",
    "board = board.to(device)\n",
    "torch.onnx.export(model,                     # model being run\n",
    "                  board,                     # model input (or a tuple for multiple inputs)\n",
    "                  \"moonboard_clf-mlp.onnx\",  # where to save the model (can be a file or file-like object)\n",
    "                  export_params=True,        # store the trained parameter weights inside the model file\n",
    "                            # the ONNX version to export the model to\n",
    "                    # whether to execute constant folding for optimization\n",
    "                  input_names = ['input'],   # the model's input names\n",
    "                  output_names = ['output'], # the model's output names\n",
    "                  dynamic_axes={'input' : {0 : 'batch_size'},    # variable length axes\n",
    "                                'output' : {0 : 'batch_size'}})"
   ]
  },
  {
   "cell_type": "code",
   "execution_count": 31,
   "id": "7f2644b6-3cd2-48fb-bf50-c0d9ab7aff58",
   "metadata": {},
   "outputs": [],
   "source": [
    "# save the other models for inference\n",
    "torch.save(cnn_model, 'moonboard-clf-cnn.pth')\n",
    "torch.save(resnet_model, 'moonboard-clf-resnet.pth')"
   ]
  }
 ],
 "metadata": {
  "kernelspec": {
   "display_name": "Python 3 (ipykernel)",
   "language": "python",
   "name": "python3"
  },
  "language_info": {
   "codemirror_mode": {
    "name": "ipython",
    "version": 3
   },
   "file_extension": ".py",
   "mimetype": "text/x-python",
   "name": "python",
   "nbconvert_exporter": "python",
   "pygments_lexer": "ipython3",
   "version": "3.11.6"
  }
 },
 "nbformat": 4,
 "nbformat_minor": 5
}
